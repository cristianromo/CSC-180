{
 "cells": [
  {
   "cell_type": "markdown",
   "metadata": {
    "id": "GxGA1SMjVOTm"
   },
   "source": [
    "## Project 4:  Solving N-Queens Problem using Genetic Algorithms\n",
    "\n",
    "#### CSC 180  Intelligent Systems\n",
    "\n",
    "#### Dr. Haiquan Chen, California State University, Sacramento\n"
   ]
  },
  {
   "cell_type": "code",
   "execution_count": null,
   "metadata": {
    "id": "1MvTbQF2R_zi"
   },
   "outputs": [],
   "source": [
    "# Insert your name, your id, course title, assignment id, and due date here as comment \n",
    "\n",
    "# Project 4\n",
    "\n",
    "# Due 11/20/2020\n",
    "\n",
    "# Ashlei McMath 219198396\n",
    "\n",
    "# Jessica Garcia 214535127\n",
    "\n",
    "# Cristian Romo 218999054"
   ]
  },
  {
   "cell_type": "markdown",
   "metadata": {
    "id": "HibX8kusV5PD"
   },
   "source": [
    "\n",
    "## Part I: Position-index-based board representation"
   ]
  },
  {
   "cell_type": "code",
   "execution_count": null,
   "metadata": {
    "colab": {
     "base_uri": "https://localhost:8080/"
    },
    "id": "pfj-G1Aswkwx",
    "outputId": "65a98ddf-dbff-48dd-d34f-055c6a8536b5"
   },
   "outputs": [
    {
     "name": "stdout",
     "output_type": "stream",
     "text": [
      "Collecting deap\n",
      "\u001b[?25l  Downloading https://files.pythonhosted.org/packages/0a/eb/2bd0a32e3ce757fb26264765abbaedd6d4d3640d90219a513aeabd08ee2b/deap-1.3.1-cp36-cp36m-manylinux2010_x86_64.whl (157kB)\n",
      "\u001b[K     |████████████████████████████████| 163kB 5.6MB/s \n",
      "\u001b[?25hRequirement already satisfied: numpy in /usr/local/lib/python3.6/dist-packages (from deap) (1.18.5)\n",
      "Installing collected packages: deap\n",
      "Successfully installed deap-1.3.1\n"
     ]
    }
   ],
   "source": [
    "!pip install deap"
   ]
  },
  {
   "cell_type": "code",
   "execution_count": null,
   "metadata": {
    "id": "LcEVm7paVOTo"
   },
   "outputs": [],
   "source": [
    "import random\n",
    "import numpy as np\n",
    "from deap import algorithms, base, creator, tools\n",
    "\n",
    "creator.create(\"FitnessMin\", base.Fitness, weights=(-1.0,))\n",
    "creator.create(\"Individual\", list, fitness=creator.FitnessMin)\n"
   ]
  },
  {
   "cell_type": "code",
   "execution_count": null,
   "metadata": {
    "id": "AjYwh9eYVOTt"
   },
   "outputs": [],
   "source": [
    "def create_individual():\n",
    "    return random.sample(range(64), 8)"
   ]
  },
  {
   "cell_type": "code",
   "execution_count": null,
   "metadata": {
    "colab": {
     "base_uri": "https://localhost:8080/"
    },
    "id": "V3rgKtu_VOTv",
    "outputId": "65cf25d3-3262-4ec0-f57d-202166b58aa8"
   },
   "outputs": [
    {
     "name": "stdout",
     "output_type": "stream",
     "text": [
      "[58, 54, 13, 56, 52, 12, 55, 47]\n"
     ]
    }
   ],
   "source": [
    "print(create_individual())"
   ]
  },
  {
   "cell_type": "code",
   "execution_count": null,
   "metadata": {
    "id": "ekoiWdxDVOTy"
   },
   "outputs": [],
   "source": [
    "#\n",
    "def show_grid(board):\n",
    "    \n",
    "    n = [0]*64\n",
    "    for i in board:\n",
    "        n[i] = 1\n",
    "    \n",
    "    \n",
    "    for i in range(8):\n",
    "        for j in range(64):\n",
    "            if j // 8 == i:\n",
    "                if n[j] == 1:\n",
    "                    print('X',end=\"|\")\n",
    "                else:\n",
    "                    print('-',end=\"|\")\n",
    "        print()\n",
    "        print(\"----------------\")\n"
   ]
  },
  {
   "cell_type": "code",
   "execution_count": null,
   "metadata": {
    "id": "N8XtgeUKVOT0"
   },
   "outputs": [],
   "source": [
    "toolbox = base.Toolbox()\n",
    "\n",
    "toolbox.register(\"individual\", tools.initIterate, creator.Individual, create_individual)\n",
    "\n",
    "toolbox.register(\"population\", tools.initRepeat, list, toolbox.individual)"
   ]
  },
  {
   "cell_type": "code",
   "execution_count": null,
   "metadata": {
    "colab": {
     "base_uri": "https://localhost:8080/"
    },
    "id": "YTk0VOT-VOT3",
    "outputId": "d07ea6c8-aba3-4f16-d02c-444f77392c78"
   },
   "outputs": [
    {
     "name": "stdout",
     "output_type": "stream",
     "text": [
      "[60, 26, 47, 11, 59, 0, 63, 48]\n"
     ]
    }
   ],
   "source": [
    "pop = toolbox.population(n=5)\n",
    "\n",
    "print(pop[0])"
   ]
  },
  {
   "cell_type": "code",
   "execution_count": null,
   "metadata": {
    "colab": {
     "base_uri": "https://localhost:8080/"
    },
    "id": "letgI4JkVOT6",
    "outputId": "e0e524da-07ee-4337-ebea-6772acb8a9a3"
   },
   "outputs": [
    {
     "name": "stdout",
     "output_type": "stream",
     "text": [
      "X|-|-|-|-|-|-|-|\n",
      "----------------\n",
      "-|-|-|X|-|-|-|-|\n",
      "----------------\n",
      "-|-|-|-|-|-|-|-|\n",
      "----------------\n",
      "-|-|X|-|-|-|-|-|\n",
      "----------------\n",
      "-|-|-|-|-|-|-|-|\n",
      "----------------\n",
      "-|-|-|-|-|-|-|X|\n",
      "----------------\n",
      "X|-|-|-|-|-|-|-|\n",
      "----------------\n",
      "-|-|-|X|X|-|-|X|\n",
      "----------------\n"
     ]
    }
   ],
   "source": [
    "show_grid(pop[0])"
   ]
  },
  {
   "cell_type": "markdown",
   "metadata": {
    "id": "qzj4Y0L5VOT8"
   },
   "source": [
    "### 10 pts:  Write your code in the cell below to define the \"evaFitness\" function, which returns the fitness of any given board.  \n",
    "\n",
    "- Noticed that in this case, mutation may generate invalid board, e.g., the board with dupliciate positions.  Think about   [5, 32, 8, 8, 41, 3, 55, 49]\n",
    "\n",
    "- How to exclude those invalid boards from each generation? One way is to add some penalty to the fitness value of invalid boards.  In that case, any invalid board will have a very high fitness value (remember that our goal is to find the board with least fitness value).    To do that, let's write a function ***checkDuplicate()*** to calculate the number of queen pairs in the same position for any given board.   ***Give each duplicate a high penalty (i.e., multiply by 20, 50) and add the penalty to the fitness value.*** \n",
    "\n",
    "-  evaFitness() returns the total number of duplicate position pair (with penalty) plus the total number of distinct pairs of queens that attack each other.  "
   ]
  },
  {
   "cell_type": "code",
   "execution_count": null,
   "metadata": {
    "id": "ZTHRSMRMVOT8"
   },
   "outputs": [],
   "source": [
    "#fitness function\n",
    "def evaFitness(individual):\n",
    "    \n",
    "\n",
    "  conflict = 0\n",
    "    # calculate row and column conflict\n",
    "    # just subtract the unique length of array from total length of array\n",
    "    # [1,1,1,2,2,2] - [1,2] => 4 clashes\n",
    "\n",
    "\n",
    "\n",
    "  row_col_conflict = abs(len(individual) - len(np.unique(individual)))\n",
    "  conflict += row_col_conflict\n",
    "\n",
    "  # calculate diagonal clashes\n",
    "  for i in range(len(individual)):\n",
    "      for j in range(len(individual)):\n",
    "          if ( i != j):\n",
    "              dx = abs(i-j)\n",
    "              dy = abs(individual[i] - individual[j])\n",
    "              if(dx == dy):\n",
    "                  conflict += 1\n",
    "   \n",
    "  return (checkDuplicate(individual) + conflict,)\n",
    "    \n",
    "# Calculate the number of queen pairs in the same position for any given board\n",
    "\n",
    "def checkDuplicate(individual):\n",
    "  dup = 0\n",
    "  x =0 \n",
    "  dup = len(individual) - len(set(individual))\n",
    "  if (dup > 0):\n",
    "    x = 10000\n",
    "  return x\n",
    "  \n",
    "  #for index in range(len(individual): \n",
    "        #if index!=0: # check only from 2nd element onwards\n",
    "              #item = my_list[index] # get the current item\n",
    "                #if item in my_list[:index]: # check if current item is in the beginning of the list uptill the current element\n",
    "                  #dup +=1\n",
    "                        \n",
    "    #return dup\n",
    "    \n",
    "#evaFitness([7, 5, 2, 4, 3, 1, 3, 5])\n",
    "#evaFitness([3, 1, 6, 0, 5, 7, 2, 1]) "
   ]
  },
  {
   "cell_type": "markdown",
   "metadata": {
    "id": "tikbcB_kVOT-"
   },
   "source": [
    "### 5 pts:  Write your code in the cell below to register \"evaluate\" function to toolbox"
   ]
  },
  {
   "cell_type": "code",
   "execution_count": null,
   "metadata": {
    "id": "bMjmesXqVOT_"
   },
   "outputs": [],
   "source": [
    "toolbox.register(\"evaluate\", evaFitness)"
   ]
  },
  {
   "cell_type": "code",
   "execution_count": null,
   "metadata": {
    "id": "_eDjyzBlVOUB"
   },
   "outputs": [],
   "source": [
    "toolbox.register(\"mate\", tools.cxTwoPoint)\n",
    "\n",
    "toolbox.register(\"mutate\", tools.mutUniformInt, low = 1, up = 63, indpb=0.1)\n",
    "\n",
    "toolbox.register(\"select\", tools.selTournament, tournsize=3)"
   ]
  },
  {
   "cell_type": "code",
   "execution_count": null,
   "metadata": {
    "id": "6uej76HoVOUD"
   },
   "outputs": [],
   "source": [
    "stats = tools.Statistics(key=lambda ind: ind.fitness.values)"
   ]
  },
  {
   "cell_type": "code",
   "execution_count": null,
   "metadata": {
    "id": "W8cWVXmxVOUH"
   },
   "outputs": [],
   "source": [
    "stats.register(\"avg\", np.mean)\n",
    "stats.register(\"min\", np.min)\n",
    "stats.register(\"max\", np.max)"
   ]
  },
  {
   "cell_type": "markdown",
   "metadata": {
    "id": "OmnhqV_MVOUJ"
   },
   "source": [
    "### 10 pts:  Writer your code in the cell below to create the first generation, the hall of fame, and launch the genetic algorithm: eaSimple().   How many individuals you want to have for each generation and how many generations you want GA to go thourgh for each run?     Vary those two parameters to see the change. "
   ]
  },
  {
   "cell_type": "code",
   "execution_count": null,
   "metadata": {
    "colab": {
     "base_uri": "https://localhost:8080/"
    },
    "id": "SsTaPuPgVOUK",
    "outputId": "327a8047-7b10-4a0a-9f90-e45dd1f5e5b4"
   },
   "outputs": [
    {
     "name": "stdout",
     "output_type": "stream",
     "text": [
      "gen\tnevals\tavg \tmin\tmax\n",
      "0  \t50    \t1.84\t0  \t6  \n",
      "1  \t35    \t1201\t0  \t10003\n",
      "2  \t28    \t200.42\t0  \t10001\n",
      "3  \t30    \t1600.28\t0  \t10003\n",
      "4  \t21    \t400.12 \t0  \t10003\n",
      "5  \t28    \t1400.38\t0  \t10003\n",
      "6  \t24    \t400.4  \t0  \t10005\n",
      "7  \t37    \t800.46 \t0  \t10004\n",
      "8  \t25    \t1000.26\t0  \t10003\n",
      "9  \t31    \t600.28 \t0  \t10002\n",
      "10 \t32    \t600.32 \t0  \t10002\n",
      "11 \t39    \t1200.44\t0  \t10003\n",
      "12 \t29    \t1000.26\t0  \t10003\n",
      "13 \t33    \t600.52 \t0  \t10003\n",
      "14 \t38    \t800.2  \t0  \t10001\n",
      "15 \t33    \t1000.42\t0  \t10005\n",
      "16 \t33    \t1400.5 \t0  \t10005\n",
      "17 \t22    \t600.26 \t0  \t10001\n",
      "18 \t32    \t800.28 \t0  \t10003\n",
      "19 \t31    \t600.46 \t0  \t10003\n",
      "20 \t32    \t200.14 \t0  \t10001\n",
      "21 \t28    \t1200.16\t0  \t10001\n",
      "22 \t34    \t400.12 \t0  \t10001\n",
      "23 \t32    \t200.42 \t0  \t10001\n",
      "24 \t28    \t800.16 \t0  \t10003\n",
      "25 \t33    \t400.2  \t0  \t10001\n",
      "26 \t28    \t200.06 \t0  \t10003\n",
      "27 \t40    \t400.28 \t0  \t10001\n",
      "28 \t32    \t1000.18\t0  \t10003\n",
      "29 \t33    \t200.18 \t0  \t10003\n",
      "30 \t24    \t400.16 \t0  \t10003\n",
      "31 \t25    \t200.06 \t0  \t10001\n",
      "32 \t26    \t400.24 \t0  \t10001\n",
      "33 \t24    \t200.1  \t0  \t10001\n",
      "34 \t30    \t800.16 \t0  \t10001\n",
      "35 \t31    \t600.06 \t0  \t10001\n",
      "36 \t29    \t200.1  \t0  \t10001\n",
      "37 \t30    \t600.18 \t0  \t10001\n",
      "38 \t33    \t200.1  \t0  \t10001\n",
      "39 \t36    \t400.16 \t0  \t10001\n",
      "40 \t24    \t0.12   \t0  \t2    \n",
      "41 \t31    \t200.02 \t0  \t10001\n",
      "42 \t22    \t0.16   \t0  \t4    \n",
      "43 \t21    \t0.16   \t0  \t2    \n",
      "44 \t25    \t0.16   \t0  \t4    \n",
      "45 \t28    \t200.18 \t0  \t10001\n",
      "46 \t39    \t0.04   \t0  \t2    \n",
      "47 \t37    \t0.04   \t0  \t2    \n",
      "48 \t28    \t200.14 \t0  \t10003\n",
      "49 \t20    \t200.1  \t0  \t10001\n",
      "50 \t35    \t0.16   \t0  \t4    \n"
     ]
    }
   ],
   "source": [
    "# Lab 13 Genetic Agorithm\n",
    "\n",
    "pop = toolbox.population(n=50)\n",
    "\n",
    "hof = tools.HallOfFame(maxsize=1)\n",
    "\n",
    "pop, log = algorithms.eaSimple(pop, toolbox, cxpb=0.5, mutpb=0.2, ngen=50, \n",
    "                                   stats=stats, halloffame=hof, verbose=True)\n"
   ]
  },
  {
   "cell_type": "markdown",
   "metadata": {
    "id": "OkApdsjQVOUL"
   },
   "source": [
    "### 5 pts:  Plot the \"avg\" and \"min\" for each generation"
   ]
  },
  {
   "cell_type": "code",
   "execution_count": null,
   "metadata": {
    "colab": {
     "base_uri": "https://localhost:8080/",
     "height": 279
    },
    "id": "gcFc3eOyVOUM",
    "outputId": "f65f1a46-7469-428f-b79a-a3215d3fd34e",
    "scrolled": true
   },
   "outputs": [
    {
     "data": {
      "image/png": "[encoded data removed]",
      "text/plain": [
       "<Figure size 432x288 with 1 Axes>"
      ]
     },
     "metadata": {
      "needs_background": "light",
      "tags": []
     },
     "output_type": "display_data"
    }
   ],
   "source": [
    "import matplotlib.pyplot as plt\n",
    "%matplotlib inline  \n",
    "\n",
    "# Lab 13 Genetic Agorithm\n",
    "\n",
    "gen, avg, min_, max_ = log.select(\"gen\", \"avg\", \"min\", \"max\")\n",
    "\n",
    "plt.plot(gen, avg, label=\"average\")\n",
    "plt.plot(gen, min_, label=\"minimum\")\n",
    "plt.plot(gen, max_, label=\"maximum\")\n",
    "plt.xlabel(\"Generation\")\n",
    "plt.ylabel(\"Fitness\")\n",
    "plt.legend(loc=\"lower right\")\n",
    "plt.show()\n"
   ]
  },
  {
   "cell_type": "markdown",
   "metadata": {
    "id": "t6PFTvUZVOUN"
   },
   "source": [
    "### 5 pts:  Print out the best individual found and its fitness value.  Show the best individual as chessboard"
   ]
  },
  {
   "cell_type": "code",
   "execution_count": null,
   "metadata": {
    "colab": {
     "base_uri": "https://localhost:8080/"
    },
    "id": "-MeBQ0BZVOUO",
    "outputId": "c9364753-1c61-48c6-f89d-7172c4020fa8"
   },
   "outputs": [
    {
     "name": "stdout",
     "output_type": "stream",
     "text": [
      "Best individual is:  [59, 38, 11, 42, 40, 51, 49, 31]\n",
      "\n",
      "with fitness:  (0.0,)\n",
      "\n",
      "Last Generation:\n",
      "[4, 61, 40, 44, 53, 38, 13, 10] (0.0,)\n",
      "[4, 61, 40, 44, 53, 38, 13, 10] (0.0,)\n",
      "[6, 63, 40, 20, 50, 38, 13, 10] (0.0,)\n",
      "[34, 61, 40, 18, 25, 38, 13, 10] (0.0,)\n",
      "[6, 61, 24, 21, 3, 38, 13, 27] (0.0,)\n",
      "[6, 61, 40, 44, 50, 38, 13, 10] (0.0,)\n",
      "[34, 61, 40, 21, 53, 38, 13, 10] (0.0,)\n",
      "[4, 61, 40, 44, 50, 38, 13, 10] (0.0,)\n",
      "[39, 61, 40, 18, 50, 38, 13, 54] (0.0,)\n",
      "[6, 61, 40, 44, 50, 38, 13, 10] (0.0,)\n",
      "Chessboard\n",
      "\n",
      "-|-|-|-|X|-|-|-|\n",
      "----------------\n",
      "-|-|X|-|-|X|-|-|\n",
      "----------------\n",
      "-|-|-|-|-|-|-|-|\n",
      "----------------\n",
      "-|-|-|-|-|-|-|-|\n",
      "----------------\n",
      "-|-|-|-|-|-|X|-|\n",
      "----------------\n",
      "X|-|-|-|X|-|-|-|\n",
      "----------------\n",
      "-|-|-|-|-|X|-|-|\n",
      "----------------\n",
      "-|-|-|-|-|X|-|-|\n",
      "----------------\n"
     ]
    }
   ],
   "source": [
    "# Lab 13 Genetic Algorithm\n",
    "\n",
    "print(\"Best individual is: \", hof[0])\n",
    "\n",
    "print(\"\\nwith fitness: \", hof[0].fitness)\n",
    "\n",
    "print()\n",
    "print(\"Last Generation:\")\n",
    "for n in range(10):\n",
    "  print(pop[n], pop[n].fitness.values)\n",
    "\n",
    "  \n",
    "print(\"Chessboard\\n\")\n",
    "show_grid(pop[0])\n"
   ]
  },
  {
   "cell_type": "markdown",
   "metadata": {
    "id": "_PCJJdWAVOUP"
   },
   "source": [
    "## Part II: Row-index-based board representation"
   ]
  },
  {
   "cell_type": "code",
   "execution_count": null,
   "metadata": {
    "colab": {
     "base_uri": "https://localhost:8080/"
    },
    "id": "BF0R7swEVOUQ",
    "outputId": "0a7b10ef-7577-4bac-e7ac-a03df8c080da"
   },
   "outputs": [
    {
     "name": "stderr",
     "output_type": "stream",
     "text": [
      "/usr/local/lib/python3.6/dist-packages/deap/creator.py:141: RuntimeWarning: A class named 'FitnessMin' has already been created and it will be overwritten. Consider deleting previous creation of that class or rename it.\n",
      "  RuntimeWarning)\n",
      "/usr/local/lib/python3.6/dist-packages/deap/creator.py:141: RuntimeWarning: A class named 'Individual' has already been created and it will be overwritten. Consider deleting previous creation of that class or rename it.\n",
      "  RuntimeWarning)\n"
     ]
    }
   ],
   "source": [
    "import random\n",
    "import numpy as np\n",
    "from deap import algorithms, base, creator, tools\n",
    "\n",
    "creator.create(\"FitnessMin\", base.Fitness, weights=(-1.0,))\n",
    "creator.create(\"Individual\", list, fitness=creator.FitnessMin)\n"
   ]
  },
  {
   "cell_type": "markdown",
   "metadata": {
    "id": "YCwVbnHrVOUS"
   },
   "source": [
    "Each row of the chess row is indexed from 0->7 . we place different queens on different rows initially.  The sequence [ a b c d .... ] means that in $0^{th}$ row, $a^{th}$ column, the queen is present and so on"
   ]
  },
  {
   "cell_type": "code",
   "execution_count": null,
   "metadata": {
    "id": "n4II9oePVOUS"
   },
   "outputs": [],
   "source": [
    "toolbox = base.Toolbox()\n",
    "\n",
    "toolbox.register(\"attr_int\", random.randint, 0, 7)\n",
    "toolbox.register(\"individual\", tools.initRepeat, creator.Individual,\n",
    "                 toolbox.attr_int, n=8)"
   ]
  },
  {
   "cell_type": "code",
   "execution_count": null,
   "metadata": {
    "colab": {
     "base_uri": "https://localhost:8080/"
    },
    "id": "W-tn8be2VOUU",
    "outputId": "470c9635-9253-4c4f-be78-1b43c7219a47"
   },
   "outputs": [
    {
     "data": {
      "text/plain": [
       "[4, 6, 4, 6, 1, 4, 7, 0]"
      ]
     },
     "execution_count": 54,
     "metadata": {
      "tags": []
     },
     "output_type": "execute_result"
    }
   ],
   "source": [
    "toolbox.individual()"
   ]
  },
  {
   "cell_type": "code",
   "execution_count": null,
   "metadata": {
    "id": "97EqErd3VOUX"
   },
   "outputs": [],
   "source": [
    "def show_grid(board):\n",
    "    \n",
    "    n = [0]*64\n",
    "    \n",
    "    for i in range(len(board)):\n",
    "        n[board[i] + i*8] = 1\n",
    "      \n",
    "    \n",
    "    for i in range(8):\n",
    "        for j in range(64):\n",
    "            if j // 8 == i:\n",
    "                if n[j] == 1:\n",
    "                    print('X',end=\"|\")\n",
    "                else:\n",
    "                    print('-',end=\"|\")\n",
    "        print()\n",
    "        print(\"----------------\")\n"
   ]
  },
  {
   "cell_type": "code",
   "execution_count": null,
   "metadata": {
    "id": "UxkDfoxbVOUb"
   },
   "outputs": [],
   "source": [
    "toolbox.register(\"population\", tools.initRepeat, list, toolbox.individual)"
   ]
  },
  {
   "cell_type": "code",
   "execution_count": null,
   "metadata": {
    "colab": {
     "base_uri": "https://localhost:8080/"
    },
    "id": "lcY06x24VOUe",
    "outputId": "c47a7fe0-7a4c-4ac5-e4af-26815ca0d87d"
   },
   "outputs": [
    {
     "name": "stdout",
     "output_type": "stream",
     "text": [
      "[3, 7, 5, 2, 0, 0, 0, 0]\n"
     ]
    }
   ],
   "source": [
    "pop = toolbox.population(n=5)\n",
    "\n",
    "print(pop[0])"
   ]
  },
  {
   "cell_type": "code",
   "execution_count": null,
   "metadata": {
    "colab": {
     "base_uri": "https://localhost:8080/"
    },
    "id": "KYoqKKm8VOUg",
    "outputId": "ec02e83d-bac2-42a2-eb4d-459e79ac52a9"
   },
   "outputs": [
    {
     "name": "stdout",
     "output_type": "stream",
     "text": [
      "-|-|-|X|-|-|-|-|\n",
      "----------------\n",
      "-|-|-|-|-|-|-|X|\n",
      "----------------\n",
      "-|-|-|-|-|X|-|-|\n",
      "----------------\n",
      "-|-|X|-|-|-|-|-|\n",
      "----------------\n",
      "X|-|-|-|-|-|-|-|\n",
      "----------------\n",
      "X|-|-|-|-|-|-|-|\n",
      "----------------\n",
      "X|-|-|-|-|-|-|-|\n",
      "----------------\n",
      "X|-|-|-|-|-|-|-|\n",
      "----------------\n"
     ]
    }
   ],
   "source": [
    "show_grid(pop[0])"
   ]
  },
  {
   "cell_type": "markdown",
   "metadata": {
    "id": "6_wZvS3mVOUh"
   },
   "source": [
    "### 10 pts:  Write your code in the cell below to define the \"evaFitness\" function, which return the fitness of any given board\n",
    "\n",
    "- evaFitness() returns the total number of distinct pairs of queens that attack each other.  \n",
    "\n",
    "- The following are some test cases you may use to verify the correctness of the evaFitness() function:\n",
    "\n",
    " * evaFitness([0, 2, 6, 7, 7, 4, 1, 6]) should return (4,)\n",
    "\n",
    " * evaFitness([7, 5, 2, 4, 3, 1, 3, 5]) should return (6,)\n",
    "\n",
    " * evaFitness([3, 1, 6, 0, 5, 7, 2, 1]) should return (5,)\n",
    "\n",
    " * evaFitness([7, 3, 1, 4, 5, 1, 3, 5]) should return (6,)\n",
    "\n"
   ]
  },
  {
   "cell_type": "code",
   "execution_count": null,
   "metadata": {
    "id": "bk1Rn57oVOUi"
   },
   "outputs": [],
   "source": [
    "#fitness function\n",
    "def evaFitness(individual):\n",
    "  \n",
    "\n",
    "  conflict = 0\n",
    "    # calculate row and column conflict\n",
    "    # just subtract the unique length of array from total length of array\n",
    "    # [1,1,1,2,2,2] - [1,2] => 4 clashes\n",
    "  #x = [0 for n in range(8)] #added in to verify evaFitness was working\n",
    "  #for i in range(8):\n",
    "    #x[i] = individual[i] % 8\n",
    "  #print(x)\n",
    "  row_col_conflict = abs(len(individual) - len(np.unique(individual)))\n",
    "  conflict += row_col_conflict\n",
    "\n",
    "  # calculate diagonal clashes\n",
    "  for i in range(len(individual)):\n",
    "      for j in range(len(individual)):\n",
    "          if ( i != j):\n",
    "              dx = abs(i-j)\n",
    "              dy = abs(individual[i] - individual[j])\n",
    "              if(dx == dy):\n",
    "                  conflict += 1\n",
    "   \n",
    "  return (checkDuplicate(individual) + conflict,)\n",
    "    \n",
    "# Calculate the number of queen pairs in the same position for any given board\n",
    "\n",
    "def checkDuplicate(individual):\n",
    "  dup = 0\n",
    "  x =0 \n",
    "  dup = len(individual) - len(set(individual))\n",
    "  if (dup > 0):\n",
    "    x = 10000 \n",
    "  return x\n",
    "  \n",
    "  #for index in range(len(individual): \n",
    "    #if index!=0: # check only from 2nd element onwards\n",
    "      #item = my_list[index] # get the current item\n",
    "      #if item in my_list[:index]: # check if current item is in the beginning of the list uptill the current element\n",
    "       # dup +=1\n",
    "                        \n",
    "#return dup\n",
    "#testing evaFitness    \n",
    "   "
   ]
  },
  {
   "cell_type": "markdown",
   "metadata": {
    "id": "MLkixA1YVOUj"
   },
   "source": [
    "### 5 pts:  Writer your code in the cell below to register \"evaluate\" function to toolbox"
   ]
  },
  {
   "cell_type": "code",
   "execution_count": null,
   "metadata": {
    "id": "TMwldAeuVOUk"
   },
   "outputs": [],
   "source": [
    "# Lab 13 Genetic ALgorithm\n",
    "\n",
    "toolbox.register(\"evaluate\", evaFitness)"
   ]
  },
  {
   "cell_type": "code",
   "execution_count": null,
   "metadata": {
    "id": "O-xOKMI4VOUl"
   },
   "outputs": [],
   "source": [
    "\n",
    "toolbox.register(\"mate\", tools.cxTwoPoint)\n",
    "\n",
    "toolbox.register(\"mutate\", tools.mutUniformInt, low = 0, up = 7, indpb=0.1)\n",
    "\n",
    "toolbox.register(\"select\", tools.selTournament, tournsize=3)\n"
   ]
  },
  {
   "cell_type": "code",
   "execution_count": null,
   "metadata": {
    "id": "R1jlpMTNVOUn"
   },
   "outputs": [],
   "source": [
    "stats = tools.Statistics(key=lambda ind: ind.fitness.values)\n",
    "\n",
    "\n",
    "stats.register(\"avg\", np.mean)\n",
    "stats.register(\"min\", np.min)\n",
    "stats.register(\"max\", np.max)\n"
   ]
  },
  {
   "cell_type": "markdown",
   "metadata": {
    "id": "pyRth-sHVOUq"
   },
   "source": [
    "### 10 pts:  Writer your code in the cell below to create the first generation, the hall of fame, and launch the genetic algorithm: eaSimple().   How many individuals you want to have for each generation and how many generations you want GA to go thourgh for each run?     Vary those two parameters to see the change. "
   ]
  },
  {
   "cell_type": "code",
   "execution_count": null,
   "metadata": {
    "colab": {
     "base_uri": "https://localhost:8080/"
    },
    "id": "3aJJcDUVVOUq",
    "outputId": "cf33da61-4394-480a-fe6d-7064f39f5820"
   },
   "outputs": [
    {
     "name": "stdout",
     "output_type": "stream",
     "text": [
      "gen\tnevals\tavg    \tmin\tmax  \n",
      "0  \t100   \t9911.76\t12 \t10022\n",
      "1  \t64    \t9709.5 \t8  \t10017\n",
      "2  \t54    \t9807.91\t12 \t10016\n",
      "3  \t62    \t9707.62\t12 \t10018\n",
      "4  \t52    \t9806.26\t4  \t10013\n",
      "5  \t70    \t9706.41\t4  \t10017\n",
      "6  \t65    \t9805.57\t4  \t10013\n",
      "7  \t54    \t9604.76\t4  \t10015\n",
      "8  \t66    \t9203.93\t4  \t10012\n",
      "9  \t52    \t8103.53\t4  \t10012\n",
      "10 \t64    \t6504.86\t4  \t10014\n",
      "11 \t50    \t4304.33\t4  \t10013\n",
      "12 \t63    \t1904.42\t4  \t10017\n",
      "13 \t51    \t604.26 \t4  \t10013\n",
      "14 \t62    \t404.11 \t4  \t10010\n",
      "15 \t53    \t1104.26\t4  \t10012\n",
      "16 \t55    \t504.1  \t4  \t10011\n",
      "17 \t67    \t1804.52\t4  \t10011\n",
      "18 \t61    \t1404.32\t4  \t10012\n",
      "19 \t61    \t904.23 \t4  \t10011\n",
      "20 \t61    \t904.26 \t4  \t10011\n",
      "21 \t59    \t1204.56\t4  \t10013\n",
      "22 \t61    \t1004.41\t4  \t10011\n",
      "23 \t59    \t804.17 \t4  \t10007\n",
      "24 \t52    \t604.19 \t4  \t10011\n",
      "25 \t62    \t1004.43\t4  \t10013\n",
      "26 \t51    \t904.24 \t4  \t10011\n",
      "27 \t63    \t704.27 \t4  \t10013\n",
      "28 \t55    \t1204.34\t4  \t10010\n",
      "29 \t68    \t1104.35\t4  \t10011\n",
      "30 \t60    \t1104.34\t4  \t10013\n",
      "31 \t66    \t1304.47\t4  \t10016\n",
      "32 \t50    \t1104.4 \t4  \t10012\n",
      "33 \t74    \t1404.38\t4  \t10009\n",
      "34 \t56    \t904.31 \t4  \t10010\n",
      "35 \t61    \t1004.14\t4  \t10007\n",
      "36 \t62    \t904.33 \t4  \t10017\n",
      "37 \t70    \t1704.56\t4  \t10011\n",
      "38 \t63    \t1004.17\t4  \t10010\n",
      "39 \t60    \t604.14 \t4  \t10008\n",
      "40 \t58    \t1304.54\t4  \t10014\n",
      "41 \t69    \t1104.42\t4  \t10011\n",
      "42 \t61    \t1104.41\t4  \t10012\n",
      "43 \t58    \t1504.43\t4  \t10011\n",
      "44 \t66    \t1604.62\t4  \t10015\n",
      "45 \t61    \t1304.45\t4  \t10011\n",
      "46 \t59    \t1304.42\t4  \t10018\n",
      "47 \t57    \t704.21 \t4  \t10011\n",
      "48 \t63    \t1204.29\t4  \t10010\n",
      "49 \t53    \t804.15 \t4  \t10010\n",
      "50 \t48    \t804.27 \t4  \t10009\n",
      "51 \t50    \t904.23 \t4  \t10014\n",
      "52 \t71    \t1804.4 \t4  \t10012\n",
      "53 \t67    \t1704.4 \t4  \t10011\n",
      "54 \t72    \t1104.53\t4  \t10015\n",
      "55 \t64    \t804.37 \t4  \t10014\n",
      "56 \t48    \t1004.21\t4  \t10012\n",
      "57 \t49    \t804.21 \t4  \t10009\n",
      "58 \t49    \t1004.47\t4  \t10020\n",
      "59 \t56    \t1304.39\t4  \t10014\n",
      "60 \t63    \t1304.54\t4  \t10014\n",
      "61 \t54    \t604.31 \t4  \t10012\n",
      "62 \t61    \t704.2  \t4  \t10011\n",
      "63 \t60    \t1304.4 \t4  \t10011\n",
      "64 \t60    \t1104.41\t4  \t10012\n",
      "65 \t55    \t1404.5 \t4  \t10014\n",
      "66 \t57    \t804.13 \t4  \t10009\n",
      "67 \t73    \t1304.45\t4  \t10013\n",
      "68 \t55    \t1104.4 \t4  \t10012\n",
      "69 \t65    \t1304.45\t4  \t10011\n",
      "70 \t64    \t1204.46\t4  \t10013\n",
      "71 \t59    \t1604.4 \t4  \t10009\n",
      "72 \t64    \t1104.29\t4  \t10011\n",
      "73 \t66    \t1604.61\t4  \t10012\n",
      "74 \t59    \t504.16 \t4  \t10007\n",
      "75 \t55    \t1104.36\t4  \t10014\n",
      "76 \t47    \t404.12 \t4  \t10009\n",
      "77 \t54    \t1504.45\t4  \t10011\n",
      "78 \t65    \t904.2  \t4  \t10007\n",
      "79 \t54    \t1204.43\t4  \t10010\n",
      "80 \t49    \t904.26 \t4  \t10011\n",
      "81 \t61    \t1404.43\t4  \t10013\n",
      "82 \t58    \t1004.21\t4  \t10009\n",
      "83 \t58    \t1204.38\t4  \t10011\n",
      "84 \t60    \t504.17 \t4  \t10009\n",
      "85 \t55    \t904.31 \t4  \t10010\n",
      "86 \t54    \t1504.55\t4  \t10012\n",
      "87 \t71    \t704.25 \t4  \t10009\n",
      "88 \t56    \t1004.36\t4  \t10015\n",
      "89 \t57    \t604.2  \t4  \t10011\n",
      "90 \t51    \t504.11 \t4  \t10009\n",
      "91 \t49    \t1204.28\t4  \t10011\n",
      "92 \t62    \t704.21 \t4  \t10012\n",
      "93 \t54    \t704.25 \t4  \t10012\n",
      "94 \t62    \t804.33 \t4  \t10011\n",
      "95 \t71    \t1604.41\t4  \t10011\n",
      "96 \t66    \t604.16 \t4  \t10011\n",
      "97 \t72    \t704.24 \t4  \t10010\n",
      "98 \t65    \t904.36 \t4  \t10014\n",
      "99 \t72    \t1204.41\t4  \t10012\n",
      "100\t58    \t704.23 \t4  \t10012\n"
     ]
    }
   ],
   "source": [
    "# Lab 13 Genetic Algorithm\n",
    "\n",
    "pop = toolbox.population(n=100)\n",
    "\n",
    "hof = tools.HallOfFame(maxsize=1)\n",
    "\n",
    "pop, log = algorithms.eaSimple(pop, toolbox, cxpb=0.5, mutpb=0.2, ngen=100, \n",
    "                                   stats=stats, halloffame=hof, verbose=True)\n"
   ]
  },
  {
   "cell_type": "markdown",
   "metadata": {
    "id": "xrJfr0ePVOUs"
   },
   "source": [
    "### 5 pts:  Plot the \"avg\" and \"min\" for each generation"
   ]
  },
  {
   "cell_type": "code",
   "execution_count": null,
   "metadata": {
    "colab": {
     "base_uri": "https://localhost:8080/",
     "height": 279
    },
    "id": "LJyAUq4WVOUs",
    "outputId": "27e34e9e-f700-4170-846e-492ab8430008"
   },
   "outputs": [
    {
     "data": {
      "image/png": "[encoded data removed]",
      "text/plain": [
       "<Figure size 432x288 with 1 Axes>"
      ]
     },
     "metadata": {
      "needs_background": "light",
      "tags": []
     },
     "output_type": "display_data"
    }
   ],
   "source": [
    "# Plot the \"avg\" and \"min\" for each generation\n",
    "\n",
    "import matplotlib.pyplot as plt\n",
    "%matplotlib inline  \n",
    "\n",
    "# Lab 13 Genetic Agorithm\n",
    "\n",
    "gen, avg, min_, max_ = log.select(\"gen\", \"avg\", \"min\", \"max\")\n",
    "\n",
    "plt.plot(gen, avg, label=\"average\")\n",
    "plt.plot(gen, min_, label=\"minimum\")\n",
    "plt.plot(gen, max_, label=\"maximum\")\n",
    "plt.xlabel(\"Generation\")\n",
    "plt.ylabel(\"Fitness\")\n",
    "plt.legend(loc=\"lower right\")\n",
    "plt.show()"
   ]
  },
  {
   "cell_type": "markdown",
   "metadata": {
    "id": "ry6HXqIMVOUv"
   },
   "source": [
    "### 5 pts:  Print out the best individual found and its fitness value.  Show the best individual as chessboard"
   ]
  },
  {
   "cell_type": "code",
   "execution_count": null,
   "metadata": {
    "colab": {
     "base_uri": "https://localhost:8080/"
    },
    "id": "PkC9uOqCVOUv",
    "outputId": "3d908ab4-29f6-4d95-ad69-9989a0539147"
   },
   "outputs": [
    {
     "name": "stdout",
     "output_type": "stream",
     "text": [
      "Best individual is:  [6, 1, 2, 0, 3, 4, 7, 5]\n",
      "\n",
      "with fitness:  (4.0,)\n",
      "\n",
      "Chessboard\n",
      "\n",
      "-|-|-|-|-|-|X|-|\n",
      "----------------\n",
      "-|X|-|-|-|-|-|-|\n",
      "----------------\n",
      "-|-|X|-|-|-|-|-|\n",
      "----------------\n",
      "X|-|-|-|-|-|-|-|\n",
      "----------------\n",
      "-|-|-|X|-|-|-|-|\n",
      "----------------\n",
      "-|-|-|-|X|-|-|-|\n",
      "----------------\n",
      "-|-|-|-|-|-|-|X|\n",
      "----------------\n",
      "-|-|-|-|-|X|-|-|\n",
      "----------------\n"
     ]
    }
   ],
   "source": [
    "# Lab 13 Genetic Algorithm\n",
    "\n",
    "print(\"Best individual is: \", hof[0])\n",
    "\n",
    "print(\"\\nwith fitness: \", hof[0].fitness)\n",
    "\n",
    "print()\n",
    "print(\"Chessboard\\n\")\n",
    "show_grid(pop[0])\n"
   ]
  },
  {
   "cell_type": "markdown",
   "metadata": {
    "id": "qhba2jQ1VOUw"
   },
   "source": [
    "### Reflection:  Which board representaion is better in terms of ease of coding and final solution quality?   Try different parameter values for mutation and crossover and vary the number of generations and the population size.  Write your findings in the report.        "
   ]
  },
  {
   "cell_type": "code",
   "execution_count": null,
   "metadata": {
    "id": "WecWido4kuGY"
   },
   "outputs": [],
   "source": []
  },
  {
   "cell_type": "markdown",
   "metadata": {
    "id": "Pw3QrMn-EiKp"
   },
   "source": [
    "***16X16 board***"
   ]
  },
  {
   "cell_type": "code",
   "execution_count": null,
   "metadata": {
    "colab": {
     "base_uri": "https://localhost:8080/"
    },
    "id": "QgL_8fqDJMVS",
    "outputId": "968e4c2c-0d04-4580-e9b6-b7be3eeb6b63"
   },
   "outputs": [
    {
     "name": "stderr",
     "output_type": "stream",
     "text": [
      "/usr/local/lib/python3.6/dist-packages/deap/creator.py:141: RuntimeWarning: A class named 'FitnessMin' has already been created and it will be overwritten. Consider deleting previous creation of that class or rename it.\n",
      "  RuntimeWarning)\n",
      "/usr/local/lib/python3.6/dist-packages/deap/creator.py:141: RuntimeWarning: A class named 'Individual' has already been created and it will be overwritten. Consider deleting previous creation of that class or rename it.\n",
      "  RuntimeWarning)\n"
     ]
    }
   ],
   "source": [
    "import random\n",
    "import numpy as np\n",
    "from deap import algorithms, base, creator, tools\n",
    "\n",
    "creator.create(\"FitnessMin\", base.Fitness, weights=(-1.0,))\n",
    "creator.create(\"Individual\", list, fitness=creator.FitnessMin)"
   ]
  },
  {
   "cell_type": "code",
   "execution_count": null,
   "metadata": {
    "id": "3rVFNaLNDGoS"
   },
   "outputs": [],
   "source": [
    "def create_individual():\n",
    "    return random.sample(range(256), 16)"
   ]
  },
  {
   "cell_type": "code",
   "execution_count": null,
   "metadata": {
    "colab": {
     "base_uri": "https://localhost:8080/"
    },
    "id": "5khqsuhQDGoS",
    "outputId": "633f06ae-c49b-48e6-ed06-a93f33f029d5"
   },
   "outputs": [
    {
     "name": "stdout",
     "output_type": "stream",
     "text": [
      "[242, 201, 22, 225, 109, 103, 59, 126, 182, 178, 90, 243, 139, 60, 65, 9]\n"
     ]
    }
   ],
   "source": [
    "print(create_individual())"
   ]
  },
  {
   "cell_type": "code",
   "execution_count": null,
   "metadata": {
    "id": "B8e7pXuBDGoS"
   },
   "outputs": [],
   "source": [
    "def show_grid(board):\n",
    "    \n",
    "    n = [0]*256\n",
    "    for i in board:\n",
    "        n[i] = 1\n",
    "    \n",
    "    \n",
    "    for i in range(16):\n",
    "        for j in range(256):\n",
    "            if j // 16 == i:\n",
    "                if n[j] == 1:\n",
    "                    print('X',end=\"|\")\n",
    "                else:\n",
    "                    print('-',end=\"|\")\n",
    "        print()\n",
    "        print(\"--------------------------------\")\n"
   ]
  },
  {
   "cell_type": "code",
   "execution_count": null,
   "metadata": {
    "id": "Vslyv-DeDGoS"
   },
   "outputs": [],
   "source": [
    "toolbox = base.Toolbox()\n",
    "\n",
    "toolbox.register(\"individual\", tools.initIterate, creator.Individual, create_individual)\n",
    "\n",
    "toolbox.register(\"population\", tools.initRepeat, list, toolbox.individual)"
   ]
  },
  {
   "cell_type": "code",
   "execution_count": null,
   "metadata": {
    "colab": {
     "base_uri": "https://localhost:8080/"
    },
    "id": "o-iuic6ZDGoS",
    "outputId": "418fb9ed-8afe-473b-992b-14bbaa22b362"
   },
   "outputs": [
    {
     "name": "stdout",
     "output_type": "stream",
     "text": [
      "[36, 172, 35, 160, 219, 150, 72, 107, 4, 115, 181, 21, 85, 162, 191, 129]\n"
     ]
    }
   ],
   "source": [
    "pop = toolbox.population(n=5)\n",
    "\n",
    "print(pop[0])"
   ]
  },
  {
   "cell_type": "code",
   "execution_count": null,
   "metadata": {
    "colab": {
     "base_uri": "https://localhost:8080/"
    },
    "id": "nrhjFtgTDGoT",
    "outputId": "c1da9513-fdc1-44f9-c975-8f9ed17b074a"
   },
   "outputs": [
    {
     "name": "stdout",
     "output_type": "stream",
     "text": [
      "-|-|-|-|X|-|-|-|-|-|-|-|-|-|-|-|\n",
      "--------------------------------\n",
      "-|-|-|-|-|X|-|-|-|-|-|-|-|-|-|-|\n",
      "--------------------------------\n",
      "-|-|-|X|X|-|-|-|-|-|-|-|-|-|-|-|\n",
      "--------------------------------\n",
      "-|-|-|-|-|-|-|-|-|-|-|-|-|-|-|-|\n",
      "--------------------------------\n",
      "-|-|-|-|-|-|-|-|X|-|-|-|-|-|-|-|\n",
      "--------------------------------\n",
      "-|-|-|-|-|X|-|-|-|-|-|-|-|-|-|-|\n",
      "--------------------------------\n",
      "-|-|-|-|-|-|-|-|-|-|-|X|-|-|-|-|\n",
      "--------------------------------\n",
      "-|-|-|X|-|-|-|-|-|-|-|-|-|-|-|-|\n",
      "--------------------------------\n",
      "-|X|-|-|-|-|-|-|-|-|-|-|-|-|-|-|\n",
      "--------------------------------\n",
      "-|-|-|-|-|-|X|-|-|-|-|-|-|-|-|-|\n",
      "--------------------------------\n",
      "X|-|X|-|-|-|-|-|-|-|-|-|X|-|-|-|\n",
      "--------------------------------\n",
      "-|-|-|-|-|X|-|-|-|-|-|-|-|-|-|X|\n",
      "--------------------------------\n",
      "-|-|-|-|-|-|-|-|-|-|-|-|-|-|-|-|\n",
      "--------------------------------\n",
      "-|-|-|-|-|-|-|-|-|-|-|X|-|-|-|-|\n",
      "--------------------------------\n",
      "-|-|-|-|-|-|-|-|-|-|-|-|-|-|-|-|\n",
      "--------------------------------\n",
      "-|-|-|-|-|-|-|-|-|-|-|-|-|-|-|-|\n",
      "--------------------------------\n"
     ]
    }
   ],
   "source": [
    "show_grid(pop[0])"
   ]
  },
  {
   "cell_type": "code",
   "execution_count": null,
   "metadata": {
    "id": "7ESujxyjDGoT"
   },
   "outputs": [],
   "source": [
    "#fitness function\n",
    "def evaFitness(individual):\n",
    "\n",
    "  conflict = 0\n",
    "    # calculate row and column conflict\n",
    "    # just subtract the unique length of array from total length of array\n",
    "    # [1,1,1,2,2,2] - [1,2] => 4 clashes\n",
    "\n",
    "\n",
    "\n",
    "  row_col_conflict = abs(len(individual) - len(np.unique(individual)))\n",
    "  conflict += row_col_conflict\n",
    "\n",
    "  # calculate diagonal clashes\n",
    "  for i in range(len(individual)):\n",
    "      for j in range(len(individual)):\n",
    "          if ( i != j):\n",
    "              dx = abs(i-j)\n",
    "              dy = abs(individual[i] - individual[j])\n",
    "              if(dx == dy):\n",
    "                  conflict += 1\n",
    "   \n",
    "  return (checkDuplicate(individual) + conflict,)\n",
    "    \n",
    "# Calculate the number of queen pairs in the same position for any given board\n",
    "\n",
    "def checkDuplicate(individual):\n",
    "  dup = 0\n",
    "  x =0 \n",
    "  dup = len(individual) - len(set(individual))\n",
    "  if (dup > 0):\n",
    "    x = 10000\n",
    "  return x\n",
    "  \n",
    "  #for index in range(len(individual): \n",
    "        #if index!=0: # check only from 2nd element onwards\n",
    "              #item = my_list[index] # get the current item\n",
    "                #if item in my_list[:index]: # check if current item is in the beginning of the list uptill the current element\n",
    "                  #dup +=1\n",
    "                        \n",
    "    #return dup\n",
    "    \n",
    "#evaFitness([7, 5, 2, 4, 3, 1, 3, 5])\n",
    "#evaFitness([3, 1, 6, 0, 5, 7, 2, 1]) "
   ]
  },
  {
   "cell_type": "code",
   "execution_count": null,
   "metadata": {
    "id": "56gwUhpdDGoT"
   },
   "outputs": [],
   "source": [
    "toolbox.register(\"evaluate\", evaFitness)"
   ]
  },
  {
   "cell_type": "code",
   "execution_count": null,
   "metadata": {
    "id": "otUkPU3nDGoT"
   },
   "outputs": [],
   "source": [
    "toolbox.register(\"mate\", tools.cxTwoPoint)\n",
    "\n",
    "toolbox.register(\"mutate\", tools.mutUniformInt, low = 1, up = 63, indpb=0.1)\n",
    "\n",
    "toolbox.register(\"select\", tools.selTournament, tournsize=3)"
   ]
  },
  {
   "cell_type": "code",
   "execution_count": null,
   "metadata": {
    "id": "qsrZjdu5DGoT"
   },
   "outputs": [],
   "source": [
    "stats = tools.Statistics(key=lambda ind: ind.fitness.values)"
   ]
  },
  {
   "cell_type": "code",
   "execution_count": null,
   "metadata": {
    "id": "a1FBfIPYDGoT"
   },
   "outputs": [],
   "source": [
    "stats.register(\"avg\", np.mean)\n",
    "stats.register(\"min\", np.min)\n",
    "stats.register(\"max\", np.max)"
   ]
  },
  {
   "cell_type": "code",
   "execution_count": null,
   "metadata": {
    "colab": {
     "base_uri": "https://localhost:8080/"
    },
    "id": "cXYlb4-ODGoT",
    "outputId": "d7ca2cea-926d-4511-f297-e825d74b6ba5"
   },
   "outputs": [
    {
     "name": "stdout",
     "output_type": "stream",
     "text": [
      "gen\tnevals\tavg \tmin\tmax\n",
      "0  \t50    \t1.56\t0  \t4  \n",
      "1  \t29    \t600.62\t0  \t10001\n",
      "2  \t29    \t400.52\t0  \t10003\n",
      "3  \t24    \t600.42\t0  \t10005\n",
      "4  \t26    \t1200.2\t0  \t10001\n",
      "5  \t37    \t600.54\t0  \t10003\n",
      "6  \t32    \t800.24\t0  \t10001\n",
      "7  \t27    \t1000.38\t0  \t10002\n",
      "8  \t32    \t1200.18\t0  \t10002\n",
      "9  \t25    \t1200.32\t0  \t10003\n",
      "10 \t32    \t1000.18\t0  \t10001\n",
      "11 \t27    \t200.14 \t0  \t10001\n",
      "12 \t31    \t1000.2 \t0  \t10003\n",
      "13 \t29    \t1000.22\t0  \t10001\n",
      "14 \t28    \t1000.3 \t0  \t10001\n",
      "15 \t28    \t200.1  \t0  \t10001\n",
      "16 \t27    \t400.2  \t0  \t10005\n",
      "17 \t37    \t800.28 \t0  \t10001\n",
      "18 \t27    \t0.08   \t0  \t2    \n",
      "19 \t28    \t200.22 \t0  \t10001\n",
      "20 \t29    \t600.34 \t0  \t10009\n",
      "21 \t33    \t600.26 \t0  \t10003\n",
      "22 \t28    \t0.32   \t0  \t4    \n",
      "23 \t32    \t400.12 \t0  \t10003\n",
      "24 \t17    \t200.18 \t0  \t10001\n",
      "25 \t25    \t200.22 \t0  \t10001\n",
      "26 \t29    \t200.18 \t0  \t10003\n",
      "27 \t25    \t400.3  \t0  \t10004\n",
      "28 \t31    \t400.32 \t0  \t10003\n",
      "29 \t23    \t200.02 \t0  \t10001\n",
      "30 \t28    \t400.24 \t0  \t10003\n",
      "31 \t26    \t600.28 \t0  \t10004\n",
      "32 \t27    \t0.28   \t0  \t4    \n",
      "33 \t25    \t200.26 \t0  \t10003\n",
      "34 \t33    \t600.22 \t0  \t10003\n",
      "35 \t30    \t200.18 \t0  \t10001\n",
      "36 \t31    \t200.18 \t0  \t10001\n",
      "37 \t25    \t200.18 \t0  \t10001\n",
      "38 \t28    \t0.2    \t0  \t4    \n",
      "39 \t31    \t400.24 \t0  \t10003\n",
      "40 \t24    \t0.16   \t0  \t2    \n",
      "41 \t21    \t600.34 \t0  \t10003\n",
      "42 \t35    \t800.24 \t0  \t10004\n",
      "43 \t34    \t0      \t0  \t0    \n",
      "44 \t35    \t400.16 \t0  \t10003\n",
      "45 \t29    \t1000.54\t0  \t10005\n",
      "46 \t37    \t200.14 \t0  \t10001\n",
      "47 \t36    \t400.16 \t0  \t10001\n",
      "48 \t34    \t200.42 \t0  \t10001\n",
      "49 \t30    \t1000.3 \t0  \t10003\n",
      "50 \t29    \t1000.38\t0  \t10007\n"
     ]
    }
   ],
   "source": [
    "# Lab 13 Genetic Agorithm\n",
    "\n",
    "pop = toolbox.population(n=50)\n",
    "\n",
    "hof = tools.HallOfFame(maxsize=1)\n",
    "\n",
    "pop, log = algorithms.eaSimple(pop, toolbox, cxpb=0.5, mutpb=0.2, ngen=50, \n",
    "                                   stats=stats, halloffame=hof, verbose=True)\n"
   ]
  },
  {
   "cell_type": "code",
   "execution_count": null,
   "metadata": {
    "colab": {
     "base_uri": "https://localhost:8080/",
     "height": 279
    },
    "id": "uPpz_3I4DGoT",
    "outputId": "8c8a0b14-bd8a-4398-bd15-c3dd7ffc97f9",
    "scrolled": true
   },
   "outputs": [
    {
     "data": {
      "image/png": "[encoded data removed]",
      "text/plain": [
       "<Figure size 432x288 with 1 Axes>"
      ]
     },
     "metadata": {
      "needs_background": "light",
      "tags": []
     },
     "output_type": "display_data"
    }
   ],
   "source": [
    "import matplotlib.pyplot as plt\n",
    "%matplotlib inline  \n",
    "\n",
    "# Lab 13 Genetic Agorithm\n",
    "\n",
    "gen, avg, min_, max_ = log.select(\"gen\", \"avg\", \"min\", \"max\")\n",
    "\n",
    "plt.plot(gen, avg, label=\"average\")\n",
    "plt.plot(gen, min_, label=\"minimum\")\n",
    "plt.plot(gen, max_, label=\"maximum\")\n",
    "plt.xlabel(\"Generation\")\n",
    "plt.ylabel(\"Fitness\")\n",
    "plt.legend(loc=\"lower right\")\n",
    "plt.show()\n"
   ]
  },
  {
   "cell_type": "code",
   "execution_count": null,
   "metadata": {
    "colab": {
     "base_uri": "https://localhost:8080/"
    },
    "id": "sl6vndfZDGoT",
    "outputId": "d69df2ff-b0cf-4e80-aa55-9a3232c553a2"
   },
   "outputs": [
    {
     "name": "stdout",
     "output_type": "stream",
     "text": [
      "Best individual is:  [118, 133, 204, 144, 190, 234, 0, 38, 12, 158, 177, 19, 24, 143, 152, 67]\n",
      "\n",
      "with fitness:  (0.0,)\n",
      "\n",
      "Last Generation:\n",
      "[27, 252, 130, 244, 39, 115, 50, 198, 45, 112, 255, 60, 51, 24, 200, 66] (0.0,)\n",
      "[27, 252, 170, 244, 85, 115, 50, 198, 26, 112, 255, 60, 239, 24, 200, 66] (0.0,)\n",
      "[30, 252, 170, 4, 14, 43, 39, 32, 98, 158, 255, 48, 8, 24, 200, 66] (0.0,)\n",
      "[30, 252, 170, 4, 14, 43, 39, 32, 98, 158, 255, 48, 8, 24, 200, 66] (0.0,)\n",
      "[30, 252, 170, 4, 85, 115, 39, 32, 98, 158, 255, 48, 51, 24, 200, 66] (0.0,)\n",
      "[27, 252, 170, 244, 37, 115, 231, 7, 1, 158, 255, 42, 239, 24, 200, 66] (0.0,)\n",
      "[27, 252, 170, 244, 85, 115, 231, 7, 1, 158, 255, 42, 239, 24, 200, 66] (0.0,)\n",
      "[27, 252, 130, 244, 37, 115, 50, 198, 45, 112, 255, 60, 51, 24, 200, 66] (0.0,)\n",
      "[27, 252, 130, 6, 42, 6, 50, 32, 98, 55, 15, 41, 239, 24, 200, 66] (10001.0,)\n",
      "[27, 252, 170, 244, 48, 115, 231, 32, 98, 158, 255, 42, 239, 24, 200, 66] (0.0,)\n",
      "Chessboard\n",
      "\n",
      "-|-|-|-|-|-|-|-|-|-|-|-|-|-|-|-|\n",
      "--------------------------------\n",
      "-|-|-|-|-|-|-|-|X|-|-|X|-|-|-|-|\n",
      "--------------------------------\n",
      "-|-|-|-|-|-|-|X|-|-|-|-|-|X|-|-|\n",
      "--------------------------------\n",
      "-|-|X|X|-|-|-|-|-|-|-|-|X|-|-|-|\n",
      "--------------------------------\n",
      "-|-|X|-|-|-|-|-|-|-|-|-|-|-|-|-|\n",
      "--------------------------------\n",
      "-|-|-|-|-|-|-|-|-|-|-|-|-|-|-|-|\n",
      "--------------------------------\n",
      "-|-|-|-|-|-|-|-|-|-|-|-|-|-|-|-|\n",
      "--------------------------------\n",
      "X|-|-|X|-|-|-|-|-|-|-|-|-|-|-|-|\n",
      "--------------------------------\n",
      "-|-|X|-|-|-|-|-|-|-|-|-|-|-|-|-|\n",
      "--------------------------------\n",
      "-|-|-|-|-|-|-|-|-|-|-|-|-|-|-|-|\n",
      "--------------------------------\n",
      "-|-|-|-|-|-|-|-|-|-|-|-|-|-|-|-|\n",
      "--------------------------------\n",
      "-|-|-|-|-|-|-|-|-|-|-|-|-|-|-|-|\n",
      "--------------------------------\n",
      "-|-|-|-|-|-|X|-|X|-|-|-|-|-|-|-|\n",
      "--------------------------------\n",
      "-|-|-|-|-|-|-|-|-|-|-|-|-|-|-|-|\n",
      "--------------------------------\n",
      "-|-|-|-|-|-|-|-|-|-|-|-|-|-|-|-|\n",
      "--------------------------------\n",
      "-|-|-|-|X|-|-|-|-|-|-|-|X|-|-|X|\n",
      "--------------------------------\n"
     ]
    }
   ],
   "source": [
    "# Lab 13 Genetic Algorithm\n",
    "\n",
    "print(\"Best individual is: \", hof[0])\n",
    "\n",
    "print(\"\\nwith fitness: \", hof[0].fitness)\n",
    "\n",
    "print()\n",
    "print(\"Last Generation:\")\n",
    "for n in range(10):\n",
    "  print(pop[n], pop[n].fitness.values)\n",
    "\n",
    "  \n",
    "print(\"Chessboard\\n\")\n",
    "show_grid(pop[0])\n"
   ]
  },
  {
   "cell_type": "code",
   "execution_count": null,
   "metadata": {
    "colab": {
     "base_uri": "https://localhost:8080/"
    },
    "id": "qGsasGaDDGoT",
    "outputId": "8ceac13c-e1cd-44c1-f1fd-68a6535d30c4"
   },
   "outputs": [
    {
     "name": "stderr",
     "output_type": "stream",
     "text": [
      "/usr/local/lib/python3.6/dist-packages/deap/creator.py:141: RuntimeWarning: A class named 'FitnessMin' has already been created and it will be overwritten. Consider deleting previous creation of that class or rename it.\n",
      "  RuntimeWarning)\n",
      "/usr/local/lib/python3.6/dist-packages/deap/creator.py:141: RuntimeWarning: A class named 'Individual' has already been created and it will be overwritten. Consider deleting previous creation of that class or rename it.\n",
      "  RuntimeWarning)\n"
     ]
    }
   ],
   "source": [
    "import random\n",
    "import numpy as np\n",
    "from deap import algorithms, base, creator, tools\n",
    "\n",
    "creator.create(\"FitnessMin\", base.Fitness, weights=(-1.0,))\n",
    "creator.create(\"Individual\", list, fitness=creator.FitnessMin)\n"
   ]
  },
  {
   "cell_type": "code",
   "execution_count": null,
   "metadata": {
    "id": "YSlx4PEFDGoT"
   },
   "outputs": [],
   "source": [
    "toolbox = base.Toolbox()\n",
    "\n",
    "toolbox.register(\"attr_int\", random.randint, 0, 15)\n",
    "toolbox.register(\"individual\", tools.initRepeat, creator.Individual,\n",
    "                 toolbox.attr_int, n=16)"
   ]
  },
  {
   "cell_type": "code",
   "execution_count": null,
   "metadata": {
    "colab": {
     "base_uri": "https://localhost:8080/"
    },
    "id": "YUlNwk4eDGoT",
    "outputId": "741c2ae6-b60a-4c78-9191-0a9181bd55d0"
   },
   "outputs": [
    {
     "data": {
      "text/plain": [
       "[2, 4, 14, 7, 13, 8, 14, 11, 13, 14, 4, 7, 10, 15, 3, 9]"
      ]
     },
     "execution_count": 45,
     "metadata": {
      "tags": []
     },
     "output_type": "execute_result"
    }
   ],
   "source": [
    "toolbox.individual()"
   ]
  },
  {
   "cell_type": "code",
   "execution_count": null,
   "metadata": {
    "id": "9zRkgjToDGoU"
   },
   "outputs": [],
   "source": [
    "def show_grid(board):\n",
    "    \n",
    "    n = [0]*256\n",
    "    \n",
    "    for i in range(len(board)):\n",
    "        n[board[i] + i*16] = 1\n",
    "      \n",
    "    \n",
    "    for i in range(16):\n",
    "        for j in range(256):\n",
    "            if j // 16 == i:\n",
    "                if n[j] == 1:\n",
    "                    print('X',end=\"|\")\n",
    "                else:\n",
    "                    print('-',end=\"|\")\n",
    "        print()\n",
    "        print(\"--------------------------------\")\n"
   ]
  },
  {
   "cell_type": "code",
   "execution_count": null,
   "metadata": {
    "id": "OVEhKCAQDGoU"
   },
   "outputs": [],
   "source": [
    "toolbox.register(\"population\", tools.initRepeat, list, toolbox.individual)"
   ]
  },
  {
   "cell_type": "code",
   "execution_count": null,
   "metadata": {
    "colab": {
     "base_uri": "https://localhost:8080/"
    },
    "id": "DUTQSJYzDGoU",
    "outputId": "f13e4d44-e226-4cff-c69a-06d9e8edde5d"
   },
   "outputs": [
    {
     "name": "stdout",
     "output_type": "stream",
     "text": [
      "[0, 0, 15, 13, 1, 12, 6, 1, 11, 0, 9, 9, 7, 1, 1, 15]\n"
     ]
    }
   ],
   "source": [
    "pop = toolbox.population(n=5)\n",
    "\n",
    "print(pop[0])"
   ]
  },
  {
   "cell_type": "code",
   "execution_count": null,
   "metadata": {
    "colab": {
     "base_uri": "https://localhost:8080/"
    },
    "id": "Fz-xJZZYDGoV",
    "outputId": "aa3d516b-09f7-443e-f532-600182bd3a2a"
   },
   "outputs": [
    {
     "name": "stdout",
     "output_type": "stream",
     "text": [
      "X|-|-|-|-|-|-|-|-|-|-|-|-|-|-|-|\n",
      "--------------------------------\n",
      "X|-|-|-|-|-|-|-|-|-|-|-|-|-|-|-|\n",
      "--------------------------------\n",
      "-|-|-|-|-|-|-|-|-|-|-|-|-|-|-|X|\n",
      "--------------------------------\n",
      "-|-|-|-|-|-|-|-|-|-|-|-|-|X|-|-|\n",
      "--------------------------------\n",
      "-|X|-|-|-|-|-|-|-|-|-|-|-|-|-|-|\n",
      "--------------------------------\n",
      "-|-|-|-|-|-|-|-|-|-|-|-|X|-|-|-|\n",
      "--------------------------------\n",
      "-|-|-|-|-|-|X|-|-|-|-|-|-|-|-|-|\n",
      "--------------------------------\n",
      "-|X|-|-|-|-|-|-|-|-|-|-|-|-|-|-|\n",
      "--------------------------------\n",
      "-|-|-|-|-|-|-|-|-|-|-|X|-|-|-|-|\n",
      "--------------------------------\n",
      "X|-|-|-|-|-|-|-|-|-|-|-|-|-|-|-|\n",
      "--------------------------------\n",
      "-|-|-|-|-|-|-|-|-|X|-|-|-|-|-|-|\n",
      "--------------------------------\n",
      "-|-|-|-|-|-|-|-|-|X|-|-|-|-|-|-|\n",
      "--------------------------------\n",
      "-|-|-|-|-|-|-|X|-|-|-|-|-|-|-|-|\n",
      "--------------------------------\n",
      "-|X|-|-|-|-|-|-|-|-|-|-|-|-|-|-|\n",
      "--------------------------------\n",
      "-|X|-|-|-|-|-|-|-|-|-|-|-|-|-|-|\n",
      "--------------------------------\n",
      "-|-|-|-|-|-|-|-|-|-|-|-|-|-|-|X|\n",
      "--------------------------------\n"
     ]
    }
   ],
   "source": [
    "show_grid(pop[0])"
   ]
  },
  {
   "cell_type": "code",
   "execution_count": null,
   "metadata": {
    "id": "32lHfcxgDGoV"
   },
   "outputs": [],
   "source": [
    "#fitness function\n",
    "def evaFitness(individual):\n",
    "    \n",
    "  conflict = 0\n",
    "    # calculate row and column conflict\n",
    "    # just subtract the unique length of array from total length of array\n",
    "    # [1,1,1,2,2,2] - [1,2] => 4 clashes\n",
    "  #x = [0 for n in range(8)] #added in to verify evaFitness was working\n",
    "  #for i in range(8):\n",
    "    #x[i] = individual[i] % 8\n",
    "  #print(x)\n",
    "  row_col_conflict = abs(len(individual) - len(np.unique(individual)))\n",
    "  conflict += row_col_conflict\n",
    "\n",
    "  # calculate diagonal clashes\n",
    "  for i in range(len(individual)):\n",
    "      for j in range(len(individual)):\n",
    "          if ( i != j):\n",
    "              dx = abs(i-j)\n",
    "              dy = abs(individual[i] - individual[j])\n",
    "              if(dx == dy):\n",
    "                  conflict += 1\n",
    "   \n",
    "  return (checkDuplicate(individual) + conflict,)\n",
    "    \n",
    "# Calculate the number of queen pairs in the same position for any given board\n",
    "\n",
    "def checkDuplicate(individual):\n",
    "  dup = 0\n",
    "  x =0 \n",
    "  dup = len(individual) - len(set(individual))\n",
    "  if (dup > 0):\n",
    "    x = 10000 \n",
    "  return x\n",
    "  \n",
    "  #for index in range(len(individual): \n",
    "    #if index!=0: # check only from 2nd element onwards\n",
    "      #item = my_list[index] # get the current item\n",
    "      #if item in my_list[:index]: # check if current item is in the beginning of the list uptill the current element\n",
    "       # dup +=1\n",
    "                        \n",
    "#return dup\n",
    "#testing evaFitness    \n",
    "   "
   ]
  },
  {
   "cell_type": "code",
   "execution_count": null,
   "metadata": {
    "id": "oXWJDc3pDGoV"
   },
   "outputs": [],
   "source": [
    "# Lab 13 Genetic ALgorithm\n",
    "\n",
    "toolbox.register(\"evaluate\", evaFitness)"
   ]
  },
  {
   "cell_type": "code",
   "execution_count": null,
   "metadata": {
    "id": "yBIPDdrjDGoV"
   },
   "outputs": [],
   "source": [
    "\n",
    "toolbox.register(\"mate\", tools.cxTwoPoint)\n",
    "\n",
    "toolbox.register(\"mutate\", tools.mutUniformInt, low = 0, up = 7, indpb=0.1)\n",
    "\n",
    "toolbox.register(\"select\", tools.selTournament, tournsize=3)\n"
   ]
  },
  {
   "cell_type": "code",
   "execution_count": null,
   "metadata": {
    "id": "dZJlh9KLDGoV"
   },
   "outputs": [],
   "source": [
    "stats = tools.Statistics(key=lambda ind: ind.fitness.values)\n",
    "\n",
    "\n",
    "stats.register(\"avg\", np.mean)\n",
    "stats.register(\"min\", np.min)\n",
    "stats.register(\"max\", np.max)\n"
   ]
  },
  {
   "cell_type": "code",
   "execution_count": null,
   "metadata": {
    "colab": {
     "base_uri": "https://localhost:8080/"
    },
    "id": "fONWU23tDGoV",
    "outputId": "fada74a7-dbd7-469f-e178-0e2d8ff3fbbf"
   },
   "outputs": [
    {
     "name": "stdout",
     "output_type": "stream",
     "text": [
      "gen\tnevals\tavg    \tmin  \tmax  \n",
      "0  \t100   \t10024.3\t10012\t10038\n",
      "1  \t59    \t10020.9\t10012\t10037\n",
      "2  \t67    \t10019.3\t10011\t10036\n",
      "3  \t58    \t10018.4\t10011\t10033\n",
      "4  \t64    \t10017.9\t10010\t10031\n",
      "5  \t73    \t10016.5\t10010\t10028\n",
      "6  \t57    \t10015.9\t10010\t10027\n",
      "7  \t66    \t10015.5\t10009\t10027\n",
      "8  \t58    \t10014  \t10008\t10025\n",
      "9  \t54    \t10012.7\t10008\t10025\n",
      "10 \t49    \t10011.8\t10006\t10028\n",
      "11 \t62    \t10011.6\t10006\t10023\n",
      "12 \t62    \t10010  \t10005\t10024\n",
      "13 \t53    \t10009  \t10006\t10018\n",
      "14 \t47    \t10007.8\t10005\t10020\n",
      "15 \t73    \t10007.5\t10005\t10019\n",
      "16 \t65    \t10007.4\t10005\t10016\n",
      "17 \t67    \t10007.6\t10005\t10026\n",
      "18 \t64    \t10006.5\t10005\t10020\n",
      "19 \t65    \t10006.3\t10005\t10016\n",
      "20 \t64    \t10006  \t10005\t10015\n",
      "21 \t58    \t10005.4\t10005\t10014\n",
      "22 \t53    \t10005.8\t10005\t10016\n",
      "23 \t57    \t10005.6\t10005\t10016\n",
      "24 \t67    \t10005.9\t10005\t10018\n",
      "25 \t65    \t10005.9\t10005\t10013\n",
      "26 \t67    \t10006  \t10005\t10018\n",
      "27 \t63    \t10005.9\t10005\t10013\n",
      "28 \t70    \t10006.3\t10005\t10019\n",
      "29 \t66    \t10005.7\t10005\t10014\n",
      "30 \t54    \t10005.9\t10005\t10019\n",
      "31 \t67    \t10005.9\t10005\t10021\n",
      "32 \t50    \t10006.4\t10005\t10022\n",
      "33 \t67    \t10005.9\t10005\t10019\n",
      "34 \t62    \t10006.2\t10005\t10019\n",
      "35 \t51    \t10006  \t10005\t10022\n",
      "36 \t64    \t10006.4\t10005\t10021\n",
      "37 \t72    \t10005.6\t10005\t10021\n",
      "38 \t61    \t10005.6\t10005\t10013\n",
      "39 \t55    \t10005.7\t10003\t10016\n",
      "40 \t67    \t10005.7\t10003\t10017\n",
      "41 \t60    \t10005.8\t10003\t10020\n",
      "42 \t62    \t10005.8\t10003\t10018\n",
      "43 \t56    \t10004.8\t10003\t10018\n",
      "44 \t58    \t10004.4\t10003\t10014\n",
      "45 \t57    \t10004.4\t10003\t10019\n",
      "46 \t56    \t10003.5\t10003\t10014\n",
      "47 \t58    \t10004.3\t10003\t10016\n",
      "48 \t69    \t10003.6\t10003\t10011\n",
      "49 \t56    \t10003.6\t10003\t10013\n",
      "50 \t64    \t10003.9\t10003\t10012\n",
      "51 \t61    \t10003.9\t10003\t10021\n",
      "52 \t64    \t10004.2\t10003\t10018\n",
      "53 \t56    \t10003.9\t10003\t10029\n",
      "54 \t63    \t10004  \t10003\t10015\n",
      "55 \t64    \t10004.1\t10003\t10018\n",
      "56 \t58    \t10004  \t10003\t10014\n",
      "57 \t67    \t10003.7\t10003\t10015\n",
      "58 \t68    \t10003.8\t10003\t10016\n",
      "59 \t63    \t10003.9\t10003\t10019\n",
      "60 \t54    \t10004.4\t10003\t10022\n",
      "61 \t69    \t10003.8\t10003\t10013\n",
      "62 \t57    \t10003.9\t10003\t10013\n",
      "63 \t62    \t10004  \t10003\t10018\n",
      "64 \t59    \t10004  \t10003\t10017\n",
      "65 \t47    \t10003.9\t10003\t10019\n",
      "66 \t68    \t10003.8\t10003\t10015\n",
      "67 \t55    \t10003.7\t10003\t10014\n",
      "68 \t68    \t10004  \t10003\t10016\n",
      "69 \t52    \t10004  \t10003\t10017\n",
      "70 \t59    \t10004.2\t10003\t10014\n",
      "71 \t48    \t10003.6\t10003\t10017\n",
      "72 \t78    \t10003.8\t10003\t10018\n",
      "73 \t63    \t10004.3\t10003\t10019\n",
      "74 \t59    \t10004.8\t10003\t10021\n",
      "75 \t66    \t10004.1\t10003\t10019\n",
      "76 \t59    \t10004.2\t10003\t10017\n",
      "77 \t63    \t10003.8\t10003\t10015\n",
      "78 \t47    \t10003.9\t10003\t10015\n",
      "79 \t58    \t10003.8\t10003\t10013\n",
      "80 \t58    \t10004.2\t10003\t10017\n",
      "81 \t50    \t10003.9\t10003\t10017\n",
      "82 \t67    \t10004.1\t10003\t10014\n",
      "83 \t69    \t10004  \t10003\t10015\n",
      "84 \t62    \t10004.1\t10003\t10017\n",
      "85 \t48    \t10003.7\t10003\t10017\n",
      "86 \t53    \t10004  \t10003\t10015\n",
      "87 \t63    \t10003.9\t10003\t10014\n",
      "88 \t63    \t10004.1\t10003\t10011\n",
      "89 \t58    \t10003.9\t10003\t10016\n",
      "90 \t53    \t10003.9\t10003\t10020\n",
      "91 \t68    \t10003.8\t10003\t10014\n",
      "92 \t64    \t10004  \t10003\t10020\n",
      "93 \t53    \t10004.1\t10003\t10014\n",
      "94 \t53    \t10004.2\t10003\t10016\n",
      "95 \t63    \t10004.1\t10003\t10016\n",
      "96 \t55    \t10004.2\t10003\t10019\n",
      "97 \t52    \t10003.5\t10003\t10011\n",
      "98 \t61    \t10004.2\t10003\t10019\n",
      "99 \t56    \t10004.1\t10003\t10017\n",
      "100\t46    \t10003.6\t10003\t10013\n"
     ]
    }
   ],
   "source": [
    "# Lab 13 Genetic Algorithm\n",
    "\n",
    "pop = toolbox.population(n=100)\n",
    "\n",
    "hof = tools.HallOfFame(maxsize=1)\n",
    "\n",
    "pop, log = algorithms.eaSimple(pop, toolbox, cxpb=0.5, mutpb=0.2, ngen=100, \n",
    "                                   stats=stats, halloffame=hof, verbose=True)\n"
   ]
  },
  {
   "cell_type": "code",
   "execution_count": null,
   "metadata": {
    "colab": {
     "base_uri": "https://localhost:8080/",
     "height": 279
    },
    "id": "LPEU7AJMDGoV",
    "outputId": "9aadde99-7b32-43bf-c2e1-202a9842339f"
   },
   "outputs": [
    {
     "data": {
      "image/png": "[encoded data removed]",
      "text/plain": [
       "<Figure size 432x288 with 1 Axes>"
      ]
     },
     "metadata": {
      "needs_background": "light",
      "tags": []
     },
     "output_type": "display_data"
    }
   ],
   "source": [
    "# Plot the \"avg\" and \"min\" for each generation\n",
    "\n",
    "import matplotlib.pyplot as plt\n",
    "%matplotlib inline  \n",
    "\n",
    "# Lab 13 Genetic Agorithm\n",
    "\n",
    "gen, avg, min_, max_ = log.select(\"gen\", \"avg\", \"min\", \"max\")\n",
    "\n",
    "plt.plot(gen, avg, label=\"average\")\n",
    "plt.plot(gen, min_, label=\"minimum\")\n",
    "plt.plot(gen, max_, label=\"maximum\")\n",
    "plt.xlabel(\"Generation\")\n",
    "plt.ylabel(\"Fitness\")\n",
    "plt.legend(loc=\"lower right\")\n",
    "plt.show()"
   ]
  },
  {
   "cell_type": "code",
   "execution_count": null,
   "metadata": {
    "colab": {
     "base_uri": "https://localhost:8080/"
    },
    "id": "O288XEKxII25",
    "outputId": "1fe939e2-683d-497b-8b25-217e885b98f1"
   },
   "outputs": [
    {
     "name": "stdout",
     "output_type": "stream",
     "text": [
      "Best individual is:  [3, 5, 13, 11, 14, 7, 1, 6, 0, 14, 11, 0, 8, 4, 2, 12]\n",
      "\n",
      "with fitness:  (10003.0,)\n",
      "\n",
      "Chessboard\n",
      "\n",
      "-|-|-|X|-|-|-|-|-|-|-|-|-|-|-|-|\n",
      "--------------------------------\n",
      "-|-|-|-|-|X|-|-|-|-|-|-|-|-|-|-|\n",
      "--------------------------------\n",
      "-|-|-|-|-|-|-|-|-|-|-|-|-|X|-|-|\n",
      "--------------------------------\n",
      "-|-|-|-|-|-|-|-|-|-|-|X|-|-|-|-|\n",
      "--------------------------------\n",
      "-|-|-|-|-|-|-|-|-|-|-|-|-|-|X|-|\n",
      "--------------------------------\n",
      "-|-|-|-|-|-|-|X|-|-|-|-|-|-|-|-|\n",
      "--------------------------------\n",
      "-|X|-|-|-|-|-|-|-|-|-|-|-|-|-|-|\n",
      "--------------------------------\n",
      "-|-|-|-|-|-|X|-|-|-|-|-|-|-|-|-|\n",
      "--------------------------------\n",
      "X|-|-|-|-|-|-|-|-|-|-|-|-|-|-|-|\n",
      "--------------------------------\n",
      "-|-|-|-|-|-|-|-|-|-|-|-|-|-|X|-|\n",
      "--------------------------------\n",
      "-|-|-|-|-|-|-|-|-|-|-|X|-|-|-|-|\n",
      "--------------------------------\n",
      "X|-|-|-|-|-|-|-|-|-|-|-|-|-|-|-|\n",
      "--------------------------------\n",
      "-|-|-|-|-|-|-|-|X|-|-|-|-|-|-|-|\n",
      "--------------------------------\n",
      "-|-|-|-|X|-|-|-|-|-|-|-|-|-|-|-|\n",
      "--------------------------------\n",
      "-|-|X|-|-|-|-|-|-|-|-|-|-|-|-|-|\n",
      "--------------------------------\n",
      "-|-|-|-|-|-|-|-|-|-|-|-|X|-|-|-|\n",
      "--------------------------------\n"
     ]
    }
   ],
   "source": [
    "# Lab 13 Genetic Algorithm\n",
    "\n",
    "print(\"Best individual is: \", hof[0])\n",
    "\n",
    "print(\"\\nwith fitness: \", hof[0].fitness)\n",
    "\n",
    "print()\n",
    "print(\"Chessboard\\n\")\n",
    "show_grid(pop[0])"
   ]
  }
 ],
 "metadata": {
  "colab": {
   "collapsed_sections": [],
   "name": "Project 4",
   "provenance": []
  },
  "kernelspec": {
   "display_name": "Python 3",
   "language": "python",
   "name": "python3"
  },
  "language_info": {
   "codemirror_mode": {
    "name": "ipython",
    "version": 3
   },
   "file_extension": ".py",
   "mimetype": "text/x-python",
   "name": "python",
   "nbconvert_exporter": "python",
   "pygments_lexer": "ipython3",
   "version": "3.8.5"
  }
 },
 "nbformat": 4,
 "nbformat_minor": 1
}
