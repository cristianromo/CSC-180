{
  "nbformat": 4,
  "nbformat_minor": 0,
  "metadata": {
    "kernelspec": {
      "display_name": "Python 3",
      "language": "python",
      "name": "python3"
    },
    "language_info": {
      "codemirror_mode": {
        "name": "ipython",
        "version": 3
      },
      "file_extension": ".py",
      "mimetype": "text/x-python",
      "name": "python",
      "nbconvert_exporter": "python",
      "pygments_lexer": "ipython3",
      "version": "3.8.3"
    },
    "colab": {
      "name": "CSC180_Stock_Selection_Project.ipynb",
      "provenance": [],
      "collapsed_sections": []
    }
  },
  "cells": [
    {
      "cell_type": "code",
      "metadata": {
        "colab": {
          "base_uri": "https://localhost:8080/"
        },
        "id": "KLgatRFa9XJB",
        "outputId": "eb25a6a0-590f-42ed-c65c-c90243dc2973"
      },
      "source": [
        "!ls \"/content/drive/My Drive/Colab Notebooks\""
      ],
      "execution_count": null,
      "outputs": [
        {
          "output_type": "stream",
          "text": [
            "ls: cannot access '/content/drive/My Drive/Colab Notebooks': No such file or directory\n"
          ],
          "name": "stdout"
        }
      ]
    },
    {
      "cell_type": "code",
      "metadata": {
        "id": "u3Ag2WzUYPWz"
      },
      "source": [
        "import numpy as np\n",
        "import matplotlib.pyplot as plt\n",
        "import pandas as pd\n",
        "import seaborn as sns\n",
        "\n",
        "\n",
        "from sklearn import svm, datasets\n",
        "from sklearn.model_selection import train_test_split\n",
        "from sklearn.metrics import confusion_matrix, classification_report\n",
        "\n",
        "# confusion matrix\n",
        "def confusionMatrix(y_true, pred):\n",
        "    # Compute confusion matrix\n",
        "    cm = confusion_matrix(y_true, pred)\n",
        "    print(cm)\n",
        "    print('Plotting confusion matrix')\n",
        "\n",
        "    plt.figure()\n",
        "    plot_confusion_matrix(cm, diagnosis)\n",
        "    plt.show()\n",
        "    print(classification_report(y_true, pred))\n",
        "\n",
        "def reggressionChart(pred, y_test):\n",
        "# regression chart\n",
        "# Plot the chart\n",
        "    chart_regression(pred.flatten(),y_test, sort=True)\n",
        "\n",
        "def ROC(pred, y_true):\n",
        "# ROC Curve\n",
        "    #pred = model.predict(x_test)\n",
        "    pred = pred[:,1] # Only positive class (M)\n",
        "    plot_roc(pred,y_true)\n",
        "\n",
        "def barChart(height, bars):\n",
        "# https://python-graph-gallery.com/matplotlib/\n",
        "# bar chart\n",
        "# Basic plot\n",
        "# height = [3, 12, 5, 18, 45]\n",
        "# bars = ('A', 'B', 'C', 'D', 'E')\n",
        "    y_pos = np.arange(len(bars))\n",
        "    plt.bar(y_pos, height, color=(0.2, 0.4, 0.6, 0.6)) \n",
        "    # Create names on the x-axis\n",
        "    plt.xticks(y_pos, bars)    \n",
        "    # Show graphic\n",
        "    plt.show()\n",
        "\n",
        "def scatterPlot(x, y):\n",
        "    z = x+np.random.rand(15)\n",
        "    z=z*z\n",
        "    plt.scatter(x, y, s=z*2000, c=x, cmap=\"plasma\", alpha=0.4, edgecolors=\"grey\", linewidth=2)\n",
        "    \n",
        "def heatMap(df):\n",
        "    # Default heatmap: just a visualization of this square matrix\n",
        "    p1 = sns.heatmap(df)\n",
        "\n",
        "def areaChart(x,y):\n",
        "    # Create data\n",
        "    #x=range(1,6)\n",
        "    #y=[1,4,6,8,4]\n",
        "\n",
        "    # Area plot\n",
        "    plt.fill_between(x, y)\n",
        "    plt.show()\n",
        "\n",
        "def lineChart():\n",
        "    # Data\n",
        "    df=pd.DataFrame({'x': range(1,11), 'y1': np.random.randn(10), 'y2': np.random.randn(10)+range(1,11), 'y3': np.random.randn(10)+range(11,21) })\n",
        "\n",
        "    # multiple line plot\n",
        "    plt.plot( 'x', 'y1', data=df, marker='o', markerfacecolor='blue', markersize=12, color='skyblue', linewidth=4)\n",
        "    plt.plot( 'x', 'y2', data=df, marker='', color='olive', linewidth=2)\n",
        "    plt.plot( 'x', 'y3', data=df, marker='', color='olive', linewidth=2, linestyle='dashed', label=\"toto\")\n",
        "    plt.legend()\n",
        "  \n",
        "def encode_text_index(df):\n",
        "    le = preprocessing.LabelEncoder()\n",
        "    df = le.fit_transform(df)\n",
        "    return le.classes_"
      ],
      "execution_count": null,
      "outputs": []
    },
    {
      "cell_type": "code",
      "metadata": {
        "id": "rveSDCQaxr7j"
      },
      "source": [
        "%matplotlib inline\n",
        "import matplotlib.pyplot as plt\n",
        "from sklearn.metrics import roc_curve, auc\n",
        "\n",
        "# Plot a confusion matrix.\n",
        "# cm is the confusion matrix, names are the names of the classes.\n",
        "def plot_confusion_matrix(cm, names, title='Confusion matrix', cmap=plt.cm.Blues):\n",
        "    plt.imshow(cm, interpolation='nearest', cmap=cmap)\n",
        "    plt.title(title)\n",
        "    plt.colorbar()\n",
        "    tick_marks = np.arange(len(names))\n",
        "    plt.xticks(tick_marks, names, rotation=45)\n",
        "    plt.yticks(tick_marks, names)\n",
        "    plt.tight_layout()\n",
        "    plt.ylabel('True label')\n",
        "    plt.xlabel('Predicted label')\n",
        "    \n",
        "\n",
        "# Plot an ROC. pred - the predictions, y - the expected output.\n",
        "def plot_roc(pred,y):\n",
        "    fpr, tpr, thresholds = roc_curve(y, pred)\n",
        "    roc_auc = auc(fpr, tpr)\n",
        "\n",
        "    plt.figure()\n",
        "    plt.plot(fpr, tpr, label='ROC curve (area = %0.2f)' % roc_auc)\n",
        "    plt.plot([0, 1], [0, 1], 'k--')\n",
        "    plt.xlim([0.0, 1.0])\n",
        "    plt.ylim([0.0, 1.05])\n",
        "    plt.xlabel('False Positive Rate')\n",
        "    plt.ylabel('True Positive Rate')\n",
        "    plt.title('Receiver Operating Characteristic (ROC)')\n",
        "    plt.legend(loc=\"lower right\")\n",
        "    plt.show()"
      ],
      "execution_count": null,
      "outputs": []
    },
    {
      "cell_type": "code",
      "metadata": {
        "id": "yEy5vDxdWCMH",
        "colab": {
          "base_uri": "https://localhost:8080/",
          "height": 1000
        },
        "outputId": "da553dde-bda4-4857-c635-9bc88a7e3226"
      },
      "source": [
        "import numpy as np\n",
        "from google.colab import drive\n",
        "import pickle as pk\n",
        "import tensorflow as tf\n",
        "from tensorflow import keras\n",
        "from sklearn.metrics import roc_auc_score\n",
        "# Plot\n",
        "import matplotlib.pyplot as plt\n",
        "# Deep Learning\n",
        "from tensorflow.keras import layers\n",
        "from tensorflow.keras.models import Sequential\n",
        "from tensorflow.keras.layers import Dense, Dropout\n",
        "from tensorflow.keras.layers import BatchNormalization\n",
        "from tensorflow.keras import regularizers\n",
        "from tensorflow.keras.optimizers import SGD\n",
        "from tensorflow.keras.utils import to_categorical\n",
        "# Random Forest \n",
        "from sklearn.ensemble import RandomForestRegressor\n",
        "\n",
        "# RNN\n",
        "from keras.models import Sequential\n",
        "from keras.layers import Dense\n",
        "from keras.layers import LSTM\n",
        "from keras.layers import Dropout\n",
        "from sklearn.metrics import accuracy_score\n",
        "from sklearn.metrics import precision_score\n",
        "from sklearn.metrics import recall_score\n",
        "from sklearn.metrics import f1_score\n",
        "from sklearn.metrics import roc_auc_score\n",
        "from sklearn.metrics import confusion_matrix\n",
        "from tensorflow.keras.callbacks import EarlyStopping\n",
        "\n",
        "#load data here\n",
        "drive.mount('/content/drive')\n",
        "DATA_PATH = \"/content/drive/My Drive/Colab Notebooks\"\n",
        "with open(DATA_PATH+'/data1.pkl','rb') as f:\n",
        "    data1 = pk.load(f)\n",
        "X_train, Y_train, X_test, Y_test = data1\n",
        "\n",
        "# building model here\n",
        "input_shape = np.shape(X_train)[1]\n",
        "train_sample_num = np.shape(X_train)[0]\n",
        "model1 = Sequential()\n",
        "model1.add(Dense(input_shape//2, activation='relu', input_dim=input_shape, kernel_regularizer=regularizers.l2(0.01)))\n",
        "#changed dropout from 0.5\n",
        "model1.add(Dropout(0.3))\n",
        "model1.add(Dense(input_shape//4, activation='relu',input_dim=input_shape, kernel_regularizer=regularizers.l2(0.01))) \n",
        "#added another layer\n",
        "model1.add(Dense(input_shape//4, activation='tanh', input_dim=input_shape, kernel_regularizer=regularizers.l2(0.06)))\n",
        "model1.add(Dense(input_shape//2, activation='tanh', input_dim=input_shape, kernel_regularizer=regularizers.l2(0.05)))\n",
        "model1.add(Dense(input_shape//2, activation='relu', input_dim=input_shape, kernel_regularizer=regularizers.l2(0.03)))\n",
        "model1.add(Dense(input_shape//4, activation='tanh', input_dim=input_shape, kernel_regularizer=regularizers.l2(0.02)))\n",
        "model1.add(BatchNormalization())\n",
        "model1.add(Dense(2, activation='softmax', kernel_regularizer=regularizers.l2(0.01)))\n",
        "sgd = SGD(lr=0.001, decay=1e-6, momentum=0.9, nesterov=True) \n",
        "model1.compile(loss='categorical_crossentropy', optimizer=sgd, metrics=['accuracy'])\n",
        "X_train1 = X_train[:-train_sample_num//5]\n",
        "Y_train1 = to_categorical(Y_train, num_classes=2)[:-train_sample_num//5]\n",
        "# RF\n",
        "model2 = RandomForestRegressor(n_estimators = 100, max_depth = 4)\n",
        "X_train2 = X_train[:-train_sample_num//5]\n",
        "Y_train2 = Y_train[:-train_sample_num//5]\n",
        "# Logstic\n",
        "model3 = Sequential()\n",
        "model3.add(Dense(1, input_dim=2, activation='sigmoid'))\n",
        "sgd = SGD(lr=0.01, decay=1e-6, momentum=0.9, nesterov=True)\n",
        "model3.compile(loss='binary_crossentropy', optimizer=sgd, metrics=['accuracy'])\n",
        "X_train3 = X_train[-train_sample_num//5:]\n",
        "Y_train3 = Y_train[-train_sample_num//5:]\n",
        "X_test = X_test\n",
        "Y_test = Y_test\n",
        "\n",
        "#training model here\n",
        "#model1.fit(X_train1, Y_train1, epochs=20, batch_size=128, verbose=0)\n",
        "model1.fit(X_train1, Y_train1, epochs=36, batch_size=128, verbose=0)\n",
        "model2.fit(X_train2, Y_train2)\n",
        "Y1 = model1.predict( X_train3 )[:,1]\n",
        "Y2 = model2.predict( X_train3 )\n",
        "X3 = np.array( [ [ Y1[i], Y2[i]] for i in range(len(Y1))] )\n",
        "model3.fit(X3, Y_train3, epochs=46, batch_size=128, verbose=1)\n",
        "#model3.fit(X3, Y_train3, epochs=30, batch_size=128, verbose=1)\n",
        "model3.summary()\n",
        "\n",
        "#model prediction\n",
        "Y_continuous1 = model1.predict( X_test )[:,1]\n",
        "Y_continuous2 = model2.predict( X_test )\n",
        "X3 = np.array( [ [ Y_continuous1[i], Y_continuous2[i]] for i in range(len(Y_continuous1))] )\n",
        "Y_continuous = model3.predict( X3 )\n",
        "Y_test = Y_test\n",
        "Y_discrete = np.round( Y_continuous )\n",
        "\n",
        "#calculating metrics and scores\n",
        "TP, FP, FN, TN = 0, 0, 0, 0\n",
        "for i in range( len(Y_discrete) ):\n",
        "    if Y_discrete[i] == Y_test[i]:\n",
        "        if Y_discrete[i] == 1: \n",
        "            TP += 1\n",
        "        else:\n",
        "            TN += 1\n",
        "    else:\n",
        "        if Y_discrete[i] == 1:\n",
        "            FP += 1\n",
        "        else:\n",
        "            FN += 1\n",
        "            \n",
        "            # Accuracy\n",
        "Accuracy = (TP+TN)/(TP+TN+FP+FN)\n",
        "            # Precision\n",
        "Precision = TP/(TP+FP) \n",
        "            #Recall\n",
        "Recall = TP/(TP+FN)\n",
        "            # F1-score\n",
        "F1 = 2*Precision*Recall/(Precision+Recall)\n",
        "            # TPR\n",
        "TPR = TP/(TP+FN)\n",
        "            # FPR\n",
        "FPR = FP/(FP+TN)\n",
        "            # AUC\n",
        "AUC = roc_auc_score(Y_test, Y_continuous)\n",
        "            \n",
        "print(\"Accuracy: \"+str(Accuracy))\n",
        "print(\"Precision: \"+str(Precision))\n",
        "print(\"Recall: \"+str(Recall))\n",
        "print(\"F1: \"+str(F1))\n",
        "print(\"AUC: \"+str(AUC))\n",
        "\n",
        "import numpy as np\n",
        "from sklearn import preprocessing\n",
        "from sklearn import svm, datasets\n",
        "from sklearn.model_selection import train_test_split\n",
        "from sklearn.metrics import confusion_matrix, classification_report\n",
        "\n",
        "#Y_discrete = np.argmax( Y_continuous )\n",
        "#Y_continuous = np.argmax(Y_continuous)\n",
        "groundtruth = np.round(Y_test)\n",
        "names = ['good', 'bad']\n",
        "\n",
        "# Compute confusion matrix\n",
        "cm = confusion_matrix(groundtruth, Y_discrete)\n",
        "\n",
        "#fitness = encode_text_index(Y_train)\n",
        "\n",
        "print('Plotting confusion matrix')\n",
        "\n",
        "plt.figure()\n",
        "plot_confusion_matrix(cm, names)\n",
        "plt.show()\n",
        "\n",
        "print(classification_report(groundtruth, Y_discrete))\n",
        "\n",
        "plot_roc(Y_discrete,groundtruth)"
      ],
      "execution_count": null,
      "outputs": [
        {
          "output_type": "stream",
          "text": [
            "Drive already mounted at /content/drive; to attempt to forcibly remount, call drive.mount(\"/content/drive\", force_remount=True).\n",
            "Epoch 1/46\n",
            "15/15 [==============================] - 0s 1ms/step - loss: 0.7539 - accuracy: 0.1642\n",
            "Epoch 2/46\n",
            "15/15 [==============================] - 0s 1ms/step - loss: 0.6416 - accuracy: 0.5257\n",
            "Epoch 3/46\n",
            "15/15 [==============================] - 0s 1ms/step - loss: 0.5568 - accuracy: 0.7072\n",
            "Epoch 4/46\n",
            "15/15 [==============================] - 0s 1ms/step - loss: 0.4977 - accuracy: 0.9486\n",
            "Epoch 5/46\n",
            "15/15 [==============================] - 0s 1ms/step - loss: 0.4512 - accuracy: 0.9565\n",
            "Epoch 6/46\n",
            "15/15 [==============================] - 0s 1ms/step - loss: 0.4131 - accuracy: 0.9586\n",
            "Epoch 7/46\n",
            "15/15 [==============================] - 0s 1ms/step - loss: 0.3811 - accuracy: 0.9586\n",
            "Epoch 8/46\n",
            "15/15 [==============================] - 0s 1ms/step - loss: 0.3541 - accuracy: 0.9580\n",
            "Epoch 9/46\n",
            "15/15 [==============================] - 0s 1ms/step - loss: 0.3312 - accuracy: 0.9586\n",
            "Epoch 10/46\n",
            "15/15 [==============================] - 0s 1ms/step - loss: 0.3117 - accuracy: 0.9591\n",
            "Epoch 11/46\n",
            "15/15 [==============================] - 0s 1ms/step - loss: 0.2949 - accuracy: 0.9591\n",
            "Epoch 12/46\n",
            "15/15 [==============================] - 0s 1ms/step - loss: 0.2803 - accuracy: 0.9586\n",
            "Epoch 13/46\n",
            "15/15 [==============================] - 0s 1ms/step - loss: 0.2676 - accuracy: 0.9586\n",
            "Epoch 14/46\n",
            "15/15 [==============================] - 0s 1ms/step - loss: 0.2565 - accuracy: 0.9591\n",
            "Epoch 15/46\n",
            "15/15 [==============================] - 0s 1ms/step - loss: 0.2468 - accuracy: 0.9591\n",
            "Epoch 16/46\n",
            "15/15 [==============================] - 0s 1ms/step - loss: 0.2381 - accuracy: 0.9591\n",
            "Epoch 17/46\n",
            "15/15 [==============================] - 0s 1ms/step - loss: 0.2303 - accuracy: 0.9591\n",
            "Epoch 18/46\n",
            "15/15 [==============================] - 0s 1ms/step - loss: 0.2235 - accuracy: 0.9596\n",
            "Epoch 19/46\n",
            "15/15 [==============================] - 0s 1ms/step - loss: 0.2172 - accuracy: 0.9596\n",
            "Epoch 20/46\n",
            "15/15 [==============================] - 0s 1ms/step - loss: 0.2117 - accuracy: 0.9596\n",
            "Epoch 21/46\n",
            "15/15 [==============================] - 0s 1ms/step - loss: 0.2066 - accuracy: 0.9596\n",
            "Epoch 22/46\n",
            "15/15 [==============================] - 0s 2ms/step - loss: 0.2020 - accuracy: 0.9596\n",
            "Epoch 23/46\n",
            "15/15 [==============================] - 0s 1ms/step - loss: 0.1978 - accuracy: 0.9596\n",
            "Epoch 24/46\n",
            "15/15 [==============================] - 0s 1ms/step - loss: 0.1939 - accuracy: 0.9596\n",
            "Epoch 25/46\n",
            "15/15 [==============================] - 0s 1ms/step - loss: 0.1905 - accuracy: 0.9596\n",
            "Epoch 26/46\n",
            "15/15 [==============================] - 0s 1ms/step - loss: 0.1873 - accuracy: 0.9596\n",
            "Epoch 27/46\n",
            "15/15 [==============================] - 0s 1ms/step - loss: 0.1843 - accuracy: 0.9596\n",
            "Epoch 28/46\n",
            "15/15 [==============================] - 0s 1ms/step - loss: 0.1816 - accuracy: 0.9596\n",
            "Epoch 29/46\n",
            "15/15 [==============================] - 0s 1ms/step - loss: 0.1790 - accuracy: 0.9596\n",
            "Epoch 30/46\n",
            "15/15 [==============================] - 0s 1ms/step - loss: 0.1766 - accuracy: 0.9596\n",
            "Epoch 31/46\n",
            "15/15 [==============================] - 0s 2ms/step - loss: 0.1744 - accuracy: 0.9596\n",
            "Epoch 32/46\n",
            "15/15 [==============================] - 0s 1ms/step - loss: 0.1724 - accuracy: 0.9596\n",
            "Epoch 33/46\n",
            "15/15 [==============================] - 0s 1ms/step - loss: 0.1706 - accuracy: 0.9596\n",
            "Epoch 34/46\n",
            "15/15 [==============================] - 0s 1ms/step - loss: 0.1688 - accuracy: 0.9596\n",
            "Epoch 35/46\n",
            "15/15 [==============================] - 0s 1ms/step - loss: 0.1671 - accuracy: 0.9596\n",
            "Epoch 36/46\n",
            "15/15 [==============================] - 0s 1ms/step - loss: 0.1655 - accuracy: 0.9596\n",
            "Epoch 37/46\n",
            "15/15 [==============================] - 0s 1ms/step - loss: 0.1641 - accuracy: 0.9596\n",
            "Epoch 38/46\n",
            "15/15 [==============================] - 0s 2ms/step - loss: 0.1627 - accuracy: 0.9596\n",
            "Epoch 39/46\n",
            "15/15 [==============================] - 0s 1ms/step - loss: 0.1615 - accuracy: 0.9596\n",
            "Epoch 40/46\n",
            "15/15 [==============================] - 0s 1ms/step - loss: 0.1602 - accuracy: 0.9596\n",
            "Epoch 41/46\n",
            "15/15 [==============================] - 0s 1ms/step - loss: 0.1591 - accuracy: 0.9596\n",
            "Epoch 42/46\n",
            "15/15 [==============================] - 0s 1ms/step - loss: 0.1580 - accuracy: 0.9596\n",
            "Epoch 43/46\n",
            "15/15 [==============================] - 0s 1ms/step - loss: 0.1570 - accuracy: 0.9596\n",
            "Epoch 44/46\n",
            "15/15 [==============================] - 0s 1ms/step - loss: 0.1560 - accuracy: 0.9596\n",
            "Epoch 45/46\n",
            "15/15 [==============================] - 0s 1ms/step - loss: 0.1551 - accuracy: 0.9596\n",
            "Epoch 46/46\n",
            "15/15 [==============================] - 0s 1ms/step - loss: 0.1542 - accuracy: 0.9591\n",
            "Model: \"sequential_3\"\n",
            "_________________________________________________________________\n",
            "Layer (type)                 Output Shape              Param #   \n",
            "=================================================================\n",
            "dense_15 (Dense)             (None, 1)                 3         \n",
            "=================================================================\n",
            "Total params: 3\n",
            "Trainable params: 3\n",
            "Non-trainable params: 0\n",
            "_________________________________________________________________\n",
            "Accuracy: 0.9217391304347826\n",
            "Precision: 0.8818897637795275\n",
            "Recall: 0.9739130434782609\n",
            "F1: 0.9256198347107438\n",
            "AUC: 0.9729578334169207\n",
            "Plotting confusion matrix\n"
          ],
          "name": "stdout"
        },
        {
          "output_type": "display_data",
          "data": {
            "image/png": "[encoded data removed]",
            "text/plain": [
              "<Figure size 432x288 with 2 Axes>"
            ]
          },
          "metadata": {
            "tags": [],
            "needs_background": "light"
          }
        },
        {
          "output_type": "stream",
          "text": [
            "              precision    recall  f1-score   support\n",
            "\n",
            "           0       0.97      0.87      0.92       805\n",
            "           1       0.88      0.97      0.93       805\n",
            "\n",
            "    accuracy                           0.92      1610\n",
            "   macro avg       0.93      0.92      0.92      1610\n",
            "weighted avg       0.93      0.92      0.92      1610\n",
            "\n"
          ],
          "name": "stdout"
        },
        {
          "output_type": "display_data",
          "data": {
            "image/png": "[encoded data removed]",
            "text/plain": [
              "<Figure size 432x288 with 1 Axes>"
            ]
          },
          "metadata": {
            "tags": [],
            "needs_background": "light"
          }
        }
      ]
    },
    {
      "cell_type": "code",
      "metadata": {
        "id": "jbEc5mmqrIE1",
        "colab": {
          "base_uri": "https://localhost:8080/"
        },
        "outputId": "5eec6f79-6bbf-4ba2-a100-3f221907a162"
      },
      "source": [
        "with open(DATA_PATH+'/data1.pkl','rb') as f:\n",
        "    data1 = pk.load(f)\n",
        "X_train, Y_train, X_test, Y_test = data1\n",
        "\n",
        "##BELOW IS NEEDED FOR RNN MODEL\n",
        "X_train = np.reshape(X_train, (X_train.shape[0], 1, X_train.shape[1]))\n",
        "X_test = np.reshape(X_test, (X_test.shape[0], 1, X_test.shape[1]))\n",
        "\n",
        "#RNN\n",
        "model4 = Sequential()\n",
        "model4.add(LSTM(units = 75, return_sequences = True, input_shape = (1,244)))\n",
        "model4.add(Dropout(0.2))\n",
        "model4.add(LSTM(units = 50, return_sequences = True))\n",
        "model4.add(Dropout(0.2))\n",
        "model4.add(LSTM(units = 50, return_sequences = True))\n",
        "model4.add(Dropout(0.1))\n",
        "model4.add(LSTM(units = 50))\n",
        "model4.add(Dropout(0.1))\n",
        "model4.add(Dense(units = 1))\n",
        "\n",
        "model4.compile(optimizer = 'nadam' , loss = 'mean_squared_error', \n",
        "               metrics=['accuracy'])\n",
        "\n",
        "monitor = EarlyStopping(monitor='val_loss', min_delta=1e-3, patience=2, verbose=1, mode='auto')\n",
        "\n",
        "model4.fit(X_train,Y_train, validation_data=(X_test,Y_test), callbacks=[monitor], epochs=40, batch_size=128)\n",
        "\n",
        "model4.summary()\n",
        "\n",
        "\n",
        "# predict probabilities for test set\n",
        "yhat_probs = model4.predict(X_test, verbose=0)\n",
        "# predict crisp classes for test set\n",
        "yhat_classes = model4.predict_classes(X_test, verbose=0)\n",
        "# reduce to 1d array\n",
        "yhat_probs = yhat_probs[:, 0]\n",
        "yhat_classes = yhat_classes[:, 0]\n",
        "\n",
        "# accuracy: (tp + tn) / (p + n)\n",
        "accuracy = accuracy_score(Y_test, yhat_classes)\n",
        "print('Accuracy: %f' % accuracy)\n",
        "# precision tp / (tp + fp)\n",
        "precision = precision_score(Y_test, yhat_classes)\n",
        "print('Precision: %f' % precision)\n",
        "# recall: tp / (tp + fn)\n",
        "recall = recall_score(Y_test, yhat_classes)\n",
        "print('Recall: %f' % recall)\n",
        "# f1: 2 tp / (2 tp + fp + fn)\n",
        "f1 = f1_score(Y_test, yhat_classes)\n",
        "print('F1 score: %f' % f1)\n",
        "# ROC AUC\n",
        "auc = roc_auc_score(Y_test, yhat_probs)\n",
        "print('ROC AUC: %f' % auc)\n",
        "# confusion matrix\n",
        "matrix = confusion_matrix(Y_test, yhat_classes)\n",
        "print(matrix)\n"
      ],
      "execution_count": null,
      "outputs": [
        {
          "output_type": "stream",
          "text": [
            "Epoch 1/40\n",
            "75/75 [==============================] - 2s 31ms/step - loss: 0.2025 - accuracy: 0.7345 - val_loss: 0.0793 - val_accuracy: 0.9099\n",
            "Epoch 2/40\n",
            "75/75 [==============================] - 1s 12ms/step - loss: 0.0575 - accuracy: 0.9429 - val_loss: 0.0716 - val_accuracy: 0.9075\n",
            "Epoch 3/40\n",
            "75/75 [==============================] - 1s 12ms/step - loss: 0.0463 - accuracy: 0.9492 - val_loss: 0.0619 - val_accuracy: 0.9174\n",
            "Epoch 4/40\n",
            "75/75 [==============================] - 1s 13ms/step - loss: 0.0414 - accuracy: 0.9530 - val_loss: 0.0600 - val_accuracy: 0.9168\n",
            "Epoch 5/40\n",
            "75/75 [==============================] - 1s 13ms/step - loss: 0.0389 - accuracy: 0.9523 - val_loss: 0.0609 - val_accuracy: 0.9168\n",
            "Epoch 6/40\n",
            "75/75 [==============================] - 1s 13ms/step - loss: 0.0374 - accuracy: 0.9557 - val_loss: 0.0701 - val_accuracy: 0.9099\n",
            "Epoch 00006: early stopping\n",
            "Model: \"sequential_4\"\n",
            "_________________________________________________________________\n",
            "Layer (type)                 Output Shape              Param #   \n",
            "=================================================================\n",
            "lstm (LSTM)                  (None, 1, 75)             96000     \n",
            "_________________________________________________________________\n",
            "dropout_2 (Dropout)          (None, 1, 75)             0         \n",
            "_________________________________________________________________\n",
            "lstm_1 (LSTM)                (None, 1, 50)             25200     \n",
            "_________________________________________________________________\n",
            "dropout_3 (Dropout)          (None, 1, 50)             0         \n",
            "_________________________________________________________________\n",
            "lstm_2 (LSTM)                (None, 1, 50)             20200     \n",
            "_________________________________________________________________\n",
            "dropout_4 (Dropout)          (None, 1, 50)             0         \n",
            "_________________________________________________________________\n",
            "dense_16 (Dense)             (None, 1, 10)             510       \n",
            "_________________________________________________________________\n",
            "lstm_3 (LSTM)                (None, 50)                12200     \n",
            "_________________________________________________________________\n",
            "dropout_5 (Dropout)          (None, 50)                0         \n",
            "_________________________________________________________________\n",
            "dense_17 (Dense)             (None, 1)                 51        \n",
            "=================================================================\n",
            "Total params: 154,161\n",
            "Trainable params: 154,161\n",
            "Non-trainable params: 0\n",
            "_________________________________________________________________\n",
            "WARNING:tensorflow:From <ipython-input-6-8835a48ec09b>:34: Sequential.predict_classes (from tensorflow.python.keras.engine.sequential) is deprecated and will be removed after 2021-01-01.\n",
            "Instructions for updating:\n",
            "Please use instead:* `np.argmax(model.predict(x), axis=-1)`,   if your model does multi-class classification   (e.g. if it uses a `softmax` last-layer activation).* `(model.predict(x) > 0.5).astype(\"int32\")`,   if your model does binary classification   (e.g. if it uses a `sigmoid` last-layer activation).\n",
            "Accuracy: 0.909938\n",
            "Precision: 0.855603\n",
            "Recall: 0.986335\n",
            "F1 score: 0.916330\n",
            "ROC AUC: 0.975512\n",
            "[[671 134]\n",
            " [ 11 794]]\n"
          ],
          "name": "stdout"
        }
      ]
    },
    {
      "cell_type": "markdown",
      "metadata": {
        "id": "C4u1TtaHYKEw"
      },
      "source": [
        "# **Pretty charts to make it look good**"
      ]
    },
    {
      "cell_type": "code",
      "metadata": {
        "id": "6g7jTNodT-O2",
        "colab": {
          "base_uri": "https://localhost:8080/",
          "height": 305
        },
        "outputId": "9c2bf519-0d17-496c-f411-8075dd1c945f"
      },
      "source": [
        "print(scatterPlot(X_test, Y_test))"
      ],
      "execution_count": null,
      "outputs": [
        {
          "output_type": "error",
          "ename": "ValueError",
          "evalue": "ignored",
          "traceback": [
            "\u001b[0;31m---------------------------------------------------------------------------\u001b[0m",
            "\u001b[0;31mValueError\u001b[0m                                Traceback (most recent call last)",
            "\u001b[0;32m<ipython-input-7-4eaf298ca6c8>\u001b[0m in \u001b[0;36m<module>\u001b[0;34m()\u001b[0m\n\u001b[0;32m----> 1\u001b[0;31m \u001b[0mprint\u001b[0m\u001b[0;34m(\u001b[0m\u001b[0mscatterPlot\u001b[0m\u001b[0;34m(\u001b[0m\u001b[0mX_test\u001b[0m\u001b[0;34m,\u001b[0m \u001b[0mY_test\u001b[0m\u001b[0;34m)\u001b[0m\u001b[0;34m)\u001b[0m\u001b[0;34m\u001b[0m\u001b[0;34m\u001b[0m\u001b[0m\n\u001b[0m",
            "\u001b[0;32m<ipython-input-2-e97fc13a509f>\u001b[0m in \u001b[0;36mscatterPlot\u001b[0;34m(x, y)\u001b[0m\n\u001b[1;32m     46\u001b[0m \u001b[0;34m\u001b[0m\u001b[0m\n\u001b[1;32m     47\u001b[0m \u001b[0;32mdef\u001b[0m \u001b[0mscatterPlot\u001b[0m\u001b[0;34m(\u001b[0m\u001b[0mx\u001b[0m\u001b[0;34m,\u001b[0m \u001b[0my\u001b[0m\u001b[0;34m)\u001b[0m\u001b[0;34m:\u001b[0m\u001b[0;34m\u001b[0m\u001b[0;34m\u001b[0m\u001b[0m\n\u001b[0;32m---> 48\u001b[0;31m     \u001b[0mz\u001b[0m \u001b[0;34m=\u001b[0m \u001b[0mx\u001b[0m\u001b[0;34m+\u001b[0m\u001b[0mnp\u001b[0m\u001b[0;34m.\u001b[0m\u001b[0mrandom\u001b[0m\u001b[0;34m.\u001b[0m\u001b[0mrand\u001b[0m\u001b[0;34m(\u001b[0m\u001b[0;36m15\u001b[0m\u001b[0;34m)\u001b[0m\u001b[0;34m\u001b[0m\u001b[0;34m\u001b[0m\u001b[0m\n\u001b[0m\u001b[1;32m     49\u001b[0m     \u001b[0mz\u001b[0m\u001b[0;34m=\u001b[0m\u001b[0mz\u001b[0m\u001b[0;34m*\u001b[0m\u001b[0mz\u001b[0m\u001b[0;34m\u001b[0m\u001b[0;34m\u001b[0m\u001b[0m\n\u001b[1;32m     50\u001b[0m     \u001b[0mplt\u001b[0m\u001b[0;34m.\u001b[0m\u001b[0mscatter\u001b[0m\u001b[0;34m(\u001b[0m\u001b[0mx\u001b[0m\u001b[0;34m,\u001b[0m \u001b[0my\u001b[0m\u001b[0;34m,\u001b[0m \u001b[0ms\u001b[0m\u001b[0;34m=\u001b[0m\u001b[0mz\u001b[0m\u001b[0;34m*\u001b[0m\u001b[0;36m2000\u001b[0m\u001b[0;34m,\u001b[0m \u001b[0mc\u001b[0m\u001b[0;34m=\u001b[0m\u001b[0mx\u001b[0m\u001b[0;34m,\u001b[0m \u001b[0mcmap\u001b[0m\u001b[0;34m=\u001b[0m\u001b[0;34m\"plasma\"\u001b[0m\u001b[0;34m,\u001b[0m \u001b[0malpha\u001b[0m\u001b[0;34m=\u001b[0m\u001b[0;36m0.4\u001b[0m\u001b[0;34m,\u001b[0m \u001b[0medgecolors\u001b[0m\u001b[0;34m=\u001b[0m\u001b[0;34m\"grey\"\u001b[0m\u001b[0;34m,\u001b[0m \u001b[0mlinewidth\u001b[0m\u001b[0;34m=\u001b[0m\u001b[0;36m2\u001b[0m\u001b[0;34m)\u001b[0m\u001b[0;34m\u001b[0m\u001b[0;34m\u001b[0m\u001b[0m\n",
            "\u001b[0;31mValueError\u001b[0m: operands could not be broadcast together with shapes (1610,1,244) (15,) "
          ]
        }
      ]
    },
    {
      "cell_type": "code",
      "metadata": {
        "id": "6y1W_dUIJzg0",
        "colab": {
          "base_uri": "https://localhost:8080/",
          "height": 347
        },
        "outputId": "01d2fd23-6bba-4cfd-faec-0a93ad0bb79b"
      },
      "source": [
        "df = pd.DataFrame(X_train, Y_train)\n",
        "print(heatMap(df))"
      ],
      "execution_count": null,
      "outputs": [
        {
          "output_type": "error",
          "ename": "ValueError",
          "evalue": "ignored",
          "traceback": [
            "\u001b[0;31m---------------------------------------------------------------------------\u001b[0m",
            "\u001b[0;31mValueError\u001b[0m                                Traceback (most recent call last)",
            "\u001b[0;32m<ipython-input-8-0a9fb5f420f5>\u001b[0m in \u001b[0;36m<module>\u001b[0;34m()\u001b[0m\n\u001b[0;32m----> 1\u001b[0;31m \u001b[0mdf\u001b[0m \u001b[0;34m=\u001b[0m \u001b[0mpd\u001b[0m\u001b[0;34m.\u001b[0m\u001b[0mDataFrame\u001b[0m\u001b[0;34m(\u001b[0m\u001b[0mX_train\u001b[0m\u001b[0;34m,\u001b[0m \u001b[0mY_train\u001b[0m\u001b[0;34m)\u001b[0m\u001b[0;34m\u001b[0m\u001b[0;34m\u001b[0m\u001b[0m\n\u001b[0m\u001b[1;32m      2\u001b[0m \u001b[0mprint\u001b[0m\u001b[0;34m(\u001b[0m\u001b[0mheatMap\u001b[0m\u001b[0;34m(\u001b[0m\u001b[0mdf\u001b[0m\u001b[0;34m)\u001b[0m\u001b[0;34m)\u001b[0m\u001b[0;34m\u001b[0m\u001b[0;34m\u001b[0m\u001b[0m\n",
            "\u001b[0;32m/usr/local/lib/python3.6/dist-packages/pandas/core/frame.py\u001b[0m in \u001b[0;36m__init__\u001b[0;34m(self, data, index, columns, dtype, copy)\u001b[0m\n\u001b[1;32m    495\u001b[0m                 \u001b[0mmgr\u001b[0m \u001b[0;34m=\u001b[0m \u001b[0minit_dict\u001b[0m\u001b[0;34m(\u001b[0m\u001b[0;34m{\u001b[0m\u001b[0mdata\u001b[0m\u001b[0;34m.\u001b[0m\u001b[0mname\u001b[0m\u001b[0;34m:\u001b[0m \u001b[0mdata\u001b[0m\u001b[0;34m}\u001b[0m\u001b[0;34m,\u001b[0m \u001b[0mindex\u001b[0m\u001b[0;34m,\u001b[0m \u001b[0mcolumns\u001b[0m\u001b[0;34m,\u001b[0m \u001b[0mdtype\u001b[0m\u001b[0;34m=\u001b[0m\u001b[0mdtype\u001b[0m\u001b[0;34m)\u001b[0m\u001b[0;34m\u001b[0m\u001b[0;34m\u001b[0m\u001b[0m\n\u001b[1;32m    496\u001b[0m             \u001b[0;32melse\u001b[0m\u001b[0;34m:\u001b[0m\u001b[0;34m\u001b[0m\u001b[0;34m\u001b[0m\u001b[0m\n\u001b[0;32m--> 497\u001b[0;31m                 \u001b[0mmgr\u001b[0m \u001b[0;34m=\u001b[0m \u001b[0minit_ndarray\u001b[0m\u001b[0;34m(\u001b[0m\u001b[0mdata\u001b[0m\u001b[0;34m,\u001b[0m \u001b[0mindex\u001b[0m\u001b[0;34m,\u001b[0m \u001b[0mcolumns\u001b[0m\u001b[0;34m,\u001b[0m \u001b[0mdtype\u001b[0m\u001b[0;34m=\u001b[0m\u001b[0mdtype\u001b[0m\u001b[0;34m,\u001b[0m \u001b[0mcopy\u001b[0m\u001b[0;34m=\u001b[0m\u001b[0mcopy\u001b[0m\u001b[0;34m)\u001b[0m\u001b[0;34m\u001b[0m\u001b[0;34m\u001b[0m\u001b[0m\n\u001b[0m\u001b[1;32m    498\u001b[0m \u001b[0;34m\u001b[0m\u001b[0m\n\u001b[1;32m    499\u001b[0m         \u001b[0;31m# For data is list-like, or Iterable (will consume into list)\u001b[0m\u001b[0;34m\u001b[0m\u001b[0;34m\u001b[0m\u001b[0;34m\u001b[0m\u001b[0m\n",
            "\u001b[0;32m/usr/local/lib/python3.6/dist-packages/pandas/core/internals/construction.py\u001b[0m in \u001b[0;36minit_ndarray\u001b[0;34m(values, index, columns, dtype, copy)\u001b[0m\n\u001b[1;32m    188\u001b[0m     \u001b[0;31m# by definition an array here\u001b[0m\u001b[0;34m\u001b[0m\u001b[0;34m\u001b[0m\u001b[0;34m\u001b[0m\u001b[0m\n\u001b[1;32m    189\u001b[0m     \u001b[0;31m# the dtypes will be coerced to a single dtype\u001b[0m\u001b[0;34m\u001b[0m\u001b[0;34m\u001b[0m\u001b[0;34m\u001b[0m\u001b[0m\n\u001b[0;32m--> 190\u001b[0;31m     \u001b[0mvalues\u001b[0m \u001b[0;34m=\u001b[0m \u001b[0m_prep_ndarray\u001b[0m\u001b[0;34m(\u001b[0m\u001b[0mvalues\u001b[0m\u001b[0;34m,\u001b[0m \u001b[0mcopy\u001b[0m\u001b[0;34m=\u001b[0m\u001b[0mcopy\u001b[0m\u001b[0;34m)\u001b[0m\u001b[0;34m\u001b[0m\u001b[0;34m\u001b[0m\u001b[0m\n\u001b[0m\u001b[1;32m    191\u001b[0m \u001b[0;34m\u001b[0m\u001b[0m\n\u001b[1;32m    192\u001b[0m     \u001b[0;32mif\u001b[0m \u001b[0mdtype\u001b[0m \u001b[0;32mis\u001b[0m \u001b[0;32mnot\u001b[0m \u001b[0;32mNone\u001b[0m\u001b[0;34m:\u001b[0m\u001b[0;34m\u001b[0m\u001b[0;34m\u001b[0m\u001b[0m\n",
            "\u001b[0;32m/usr/local/lib/python3.6/dist-packages/pandas/core/internals/construction.py\u001b[0m in \u001b[0;36m_prep_ndarray\u001b[0;34m(values, copy)\u001b[0m\n\u001b[1;32m    322\u001b[0m         \u001b[0mvalues\u001b[0m \u001b[0;34m=\u001b[0m \u001b[0mvalues\u001b[0m\u001b[0;34m.\u001b[0m\u001b[0mreshape\u001b[0m\u001b[0;34m(\u001b[0m\u001b[0;34m(\u001b[0m\u001b[0mvalues\u001b[0m\u001b[0;34m.\u001b[0m\u001b[0mshape\u001b[0m\u001b[0;34m[\u001b[0m\u001b[0;36m0\u001b[0m\u001b[0;34m]\u001b[0m\u001b[0;34m,\u001b[0m \u001b[0;36m1\u001b[0m\u001b[0;34m)\u001b[0m\u001b[0;34m)\u001b[0m\u001b[0;34m\u001b[0m\u001b[0;34m\u001b[0m\u001b[0m\n\u001b[1;32m    323\u001b[0m     \u001b[0;32melif\u001b[0m \u001b[0mvalues\u001b[0m\u001b[0;34m.\u001b[0m\u001b[0mndim\u001b[0m \u001b[0;34m!=\u001b[0m \u001b[0;36m2\u001b[0m\u001b[0;34m:\u001b[0m\u001b[0;34m\u001b[0m\u001b[0;34m\u001b[0m\u001b[0m\n\u001b[0;32m--> 324\u001b[0;31m         \u001b[0;32mraise\u001b[0m \u001b[0mValueError\u001b[0m\u001b[0;34m(\u001b[0m\u001b[0;34mf\"Must pass 2-d input. shape={values.shape}\"\u001b[0m\u001b[0;34m)\u001b[0m\u001b[0;34m\u001b[0m\u001b[0;34m\u001b[0m\u001b[0m\n\u001b[0m\u001b[1;32m    325\u001b[0m \u001b[0;34m\u001b[0m\u001b[0m\n\u001b[1;32m    326\u001b[0m     \u001b[0;32mreturn\u001b[0m \u001b[0mvalues\u001b[0m\u001b[0;34m\u001b[0m\u001b[0;34m\u001b[0m\u001b[0m\n",
            "\u001b[0;31mValueError\u001b[0m: Must pass 2-d input. shape=(9526, 1, 244)"
          ]
        }
      ]
    },
    {
      "cell_type": "code",
      "metadata": {
        "id": "RnDRrxVvT52k",
        "colab": {
          "base_uri": "https://localhost:8080/",
          "height": 347
        },
        "outputId": "8764d650-d9d0-402f-a20a-678a7d3d43bf"
      },
      "source": [
        "df = pd.DataFrame(X_test, Y_test)\n",
        "print(heatMap(df))"
      ],
      "execution_count": null,
      "outputs": [
        {
          "output_type": "error",
          "ename": "ValueError",
          "evalue": "ignored",
          "traceback": [
            "\u001b[0;31m---------------------------------------------------------------------------\u001b[0m",
            "\u001b[0;31mValueError\u001b[0m                                Traceback (most recent call last)",
            "\u001b[0;32m<ipython-input-9-3716d5afab83>\u001b[0m in \u001b[0;36m<module>\u001b[0;34m()\u001b[0m\n\u001b[0;32m----> 1\u001b[0;31m \u001b[0mdf\u001b[0m \u001b[0;34m=\u001b[0m \u001b[0mpd\u001b[0m\u001b[0;34m.\u001b[0m\u001b[0mDataFrame\u001b[0m\u001b[0;34m(\u001b[0m\u001b[0mX_test\u001b[0m\u001b[0;34m,\u001b[0m \u001b[0mY_test\u001b[0m\u001b[0;34m)\u001b[0m\u001b[0;34m\u001b[0m\u001b[0;34m\u001b[0m\u001b[0m\n\u001b[0m\u001b[1;32m      2\u001b[0m \u001b[0mprint\u001b[0m\u001b[0;34m(\u001b[0m\u001b[0mheatMap\u001b[0m\u001b[0;34m(\u001b[0m\u001b[0mdf\u001b[0m\u001b[0;34m)\u001b[0m\u001b[0;34m)\u001b[0m\u001b[0;34m\u001b[0m\u001b[0;34m\u001b[0m\u001b[0m\n",
            "\u001b[0;32m/usr/local/lib/python3.6/dist-packages/pandas/core/frame.py\u001b[0m in \u001b[0;36m__init__\u001b[0;34m(self, data, index, columns, dtype, copy)\u001b[0m\n\u001b[1;32m    495\u001b[0m                 \u001b[0mmgr\u001b[0m \u001b[0;34m=\u001b[0m \u001b[0minit_dict\u001b[0m\u001b[0;34m(\u001b[0m\u001b[0;34m{\u001b[0m\u001b[0mdata\u001b[0m\u001b[0;34m.\u001b[0m\u001b[0mname\u001b[0m\u001b[0;34m:\u001b[0m \u001b[0mdata\u001b[0m\u001b[0;34m}\u001b[0m\u001b[0;34m,\u001b[0m \u001b[0mindex\u001b[0m\u001b[0;34m,\u001b[0m \u001b[0mcolumns\u001b[0m\u001b[0;34m,\u001b[0m \u001b[0mdtype\u001b[0m\u001b[0;34m=\u001b[0m\u001b[0mdtype\u001b[0m\u001b[0;34m)\u001b[0m\u001b[0;34m\u001b[0m\u001b[0;34m\u001b[0m\u001b[0m\n\u001b[1;32m    496\u001b[0m             \u001b[0;32melse\u001b[0m\u001b[0;34m:\u001b[0m\u001b[0;34m\u001b[0m\u001b[0;34m\u001b[0m\u001b[0m\n\u001b[0;32m--> 497\u001b[0;31m                 \u001b[0mmgr\u001b[0m \u001b[0;34m=\u001b[0m \u001b[0minit_ndarray\u001b[0m\u001b[0;34m(\u001b[0m\u001b[0mdata\u001b[0m\u001b[0;34m,\u001b[0m \u001b[0mindex\u001b[0m\u001b[0;34m,\u001b[0m \u001b[0mcolumns\u001b[0m\u001b[0;34m,\u001b[0m \u001b[0mdtype\u001b[0m\u001b[0;34m=\u001b[0m\u001b[0mdtype\u001b[0m\u001b[0;34m,\u001b[0m \u001b[0mcopy\u001b[0m\u001b[0;34m=\u001b[0m\u001b[0mcopy\u001b[0m\u001b[0;34m)\u001b[0m\u001b[0;34m\u001b[0m\u001b[0;34m\u001b[0m\u001b[0m\n\u001b[0m\u001b[1;32m    498\u001b[0m \u001b[0;34m\u001b[0m\u001b[0m\n\u001b[1;32m    499\u001b[0m         \u001b[0;31m# For data is list-like, or Iterable (will consume into list)\u001b[0m\u001b[0;34m\u001b[0m\u001b[0;34m\u001b[0m\u001b[0;34m\u001b[0m\u001b[0m\n",
            "\u001b[0;32m/usr/local/lib/python3.6/dist-packages/pandas/core/internals/construction.py\u001b[0m in \u001b[0;36minit_ndarray\u001b[0;34m(values, index, columns, dtype, copy)\u001b[0m\n\u001b[1;32m    188\u001b[0m     \u001b[0;31m# by definition an array here\u001b[0m\u001b[0;34m\u001b[0m\u001b[0;34m\u001b[0m\u001b[0;34m\u001b[0m\u001b[0m\n\u001b[1;32m    189\u001b[0m     \u001b[0;31m# the dtypes will be coerced to a single dtype\u001b[0m\u001b[0;34m\u001b[0m\u001b[0;34m\u001b[0m\u001b[0;34m\u001b[0m\u001b[0m\n\u001b[0;32m--> 190\u001b[0;31m     \u001b[0mvalues\u001b[0m \u001b[0;34m=\u001b[0m \u001b[0m_prep_ndarray\u001b[0m\u001b[0;34m(\u001b[0m\u001b[0mvalues\u001b[0m\u001b[0;34m,\u001b[0m \u001b[0mcopy\u001b[0m\u001b[0;34m=\u001b[0m\u001b[0mcopy\u001b[0m\u001b[0;34m)\u001b[0m\u001b[0;34m\u001b[0m\u001b[0;34m\u001b[0m\u001b[0m\n\u001b[0m\u001b[1;32m    191\u001b[0m \u001b[0;34m\u001b[0m\u001b[0m\n\u001b[1;32m    192\u001b[0m     \u001b[0;32mif\u001b[0m \u001b[0mdtype\u001b[0m \u001b[0;32mis\u001b[0m \u001b[0;32mnot\u001b[0m \u001b[0;32mNone\u001b[0m\u001b[0;34m:\u001b[0m\u001b[0;34m\u001b[0m\u001b[0;34m\u001b[0m\u001b[0m\n",
            "\u001b[0;32m/usr/local/lib/python3.6/dist-packages/pandas/core/internals/construction.py\u001b[0m in \u001b[0;36m_prep_ndarray\u001b[0;34m(values, copy)\u001b[0m\n\u001b[1;32m    322\u001b[0m         \u001b[0mvalues\u001b[0m \u001b[0;34m=\u001b[0m \u001b[0mvalues\u001b[0m\u001b[0;34m.\u001b[0m\u001b[0mreshape\u001b[0m\u001b[0;34m(\u001b[0m\u001b[0;34m(\u001b[0m\u001b[0mvalues\u001b[0m\u001b[0;34m.\u001b[0m\u001b[0mshape\u001b[0m\u001b[0;34m[\u001b[0m\u001b[0;36m0\u001b[0m\u001b[0;34m]\u001b[0m\u001b[0;34m,\u001b[0m \u001b[0;36m1\u001b[0m\u001b[0;34m)\u001b[0m\u001b[0;34m)\u001b[0m\u001b[0;34m\u001b[0m\u001b[0;34m\u001b[0m\u001b[0m\n\u001b[1;32m    323\u001b[0m     \u001b[0;32melif\u001b[0m \u001b[0mvalues\u001b[0m\u001b[0;34m.\u001b[0m\u001b[0mndim\u001b[0m \u001b[0;34m!=\u001b[0m \u001b[0;36m2\u001b[0m\u001b[0;34m:\u001b[0m\u001b[0;34m\u001b[0m\u001b[0;34m\u001b[0m\u001b[0m\n\u001b[0;32m--> 324\u001b[0;31m         \u001b[0;32mraise\u001b[0m \u001b[0mValueError\u001b[0m\u001b[0;34m(\u001b[0m\u001b[0;34mf\"Must pass 2-d input. shape={values.shape}\"\u001b[0m\u001b[0;34m)\u001b[0m\u001b[0;34m\u001b[0m\u001b[0;34m\u001b[0m\u001b[0m\n\u001b[0m\u001b[1;32m    325\u001b[0m \u001b[0;34m\u001b[0m\u001b[0m\n\u001b[1;32m    326\u001b[0m     \u001b[0;32mreturn\u001b[0m \u001b[0mvalues\u001b[0m\u001b[0;34m\u001b[0m\u001b[0;34m\u001b[0m\u001b[0m\n",
            "\u001b[0;31mValueError\u001b[0m: Must pass 2-d input. shape=(1610, 1, 244)"
          ]
        }
      ]
    },
    {
      "cell_type": "code",
      "metadata": {
        "id": "KAyBKt0iNv_h",
        "colab": {
          "base_uri": "https://localhost:8080/"
        },
        "outputId": "b6d1796e-2b2b-4c8e-a11e-350acb5d6548"
      },
      "source": [
        "height= [Accuracy, Precision, Recall, F1, TPR, FPR, AUC]\n",
        "bars =('Accuracy', 'Precision', 'Recall', 'F1', 'TPR', 'FPR', 'AUC')\n",
        "print(barChart(height, bars))"
      ],
      "execution_count": null,
      "outputs": [
        {
          "output_type": "display_data",
          "data": {
            "image/png": "[encoded data removed]",
            "text/plain": [
              "<Figure size 432x288 with 1 Axes>"
            ]
          },
          "metadata": {
            "tags": [],
            "needs_background": "light"
          }
        },
        {
          "output_type": "stream",
          "text": [
            "None\n"
          ],
          "name": "stdout"
        }
      ]
    }
  ]
}